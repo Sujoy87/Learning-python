{
 "cells": [
  {
   "cell_type": "code",
   "execution_count": 24,
   "id": "0f9bd3ff",
   "metadata": {},
   "outputs": [
    {
     "name": "stdout",
     "output_type": "stream",
     "text": [
      "even 2\n",
      "odd 3\n",
      "even 4\n",
      "even 6\n",
      "odd 6\n",
      "even 8\n",
      "odd 9\n",
      "even 10\n",
      "even 12\n",
      "odd 12\n",
      "even 14\n",
      "odd 15\n",
      "even 16\n",
      "even 18\n",
      "odd 18\n",
      "even 20\n"
     ]
    }
   ],
   "source": [
    "#map \n",
    "   \n",
    "for i in  range(1 , 21):\n",
    "    if i %2==0:\n",
    "        print('even' , i)\n",
    "    if i %3==0:\n",
    "        print('odd' , i)\n",
    "    \n",
    "\n",
    "    \n",
    "    \n",
    " "
   ]
  },
  {
   "cell_type": "code",
   "execution_count": 28,
   "id": "0eaa1ba2",
   "metadata": {},
   "outputs": [
    {
     "name": "stdout",
     "output_type": "stream",
     "text": [
      "Python\n"
     ]
    }
   ],
   "source": [
    "def kamal(): # def is keyword for function and kamal is an function name \n",
    "    print(\"Python\")\n",
    "    \n",
    "    \n",
    "    \n",
    "kamal()"
   ]
  },
  {
   "cell_type": "code",
   "execution_count": 31,
   "id": "84ad1156",
   "metadata": {},
   "outputs": [
    {
     "name": "stdout",
     "output_type": "stream",
     "text": [
      "sujoy bhattacharya\n"
     ]
    }
   ],
   "source": [
    "def rahul():\n",
    "    print(\"sujoy bhattacharya\")\n",
    "    \n",
    "    \n",
    "rahul()"
   ]
  },
  {
   "cell_type": "code",
   "execution_count": 1,
   "id": "75f3f99e",
   "metadata": {},
   "outputs": [
    {
     "name": "stdout",
     "output_type": "stream",
     "text": [
      "river\n"
     ]
    }
   ],
   "source": [
    "def rev():\n",
    "    print('river')\n",
    "rev()"
   ]
  },
  {
   "cell_type": "code",
   "execution_count": 4,
   "id": "ff610978",
   "metadata": {},
   "outputs": [],
   "source": [
    "a=10\n",
    "b=65\n",
    "def test(a , b):\n",
    "    return a + b\n",
    "\n"
   ]
  },
  {
   "cell_type": "code",
   "execution_count": 5,
   "id": "3baaf9de",
   "metadata": {},
   "outputs": [
    {
     "name": "stdout",
     "output_type": "stream",
     "text": [
      "75\n"
     ]
    }
   ],
   "source": [
    "q=test(a , b)\n",
    "print(q)"
   ]
  },
  {
   "cell_type": "code",
   "execution_count": 6,
   "id": "65f86628",
   "metadata": {},
   "outputs": [
    {
     "data": {
      "text/plain": [
       "100"
      ]
     },
     "execution_count": 6,
     "metadata": {},
     "output_type": "execute_result"
    }
   ],
   "source": [
    "test(23 , 77)"
   ]
  },
  {
   "cell_type": "code",
   "execution_count": 7,
   "id": "f12ceffc",
   "metadata": {},
   "outputs": [
    {
     "data": {
      "text/plain": [
       "50"
      ]
     },
     "execution_count": 7,
     "metadata": {},
     "output_type": "execute_result"
    }
   ],
   "source": [
    "test(25 , 25)"
   ]
  },
  {
   "cell_type": "markdown",
   "id": "bfd03778",
   "metadata": {},
   "source": [
    "def even_and_odd(starting , ending):\n",
    "    for i in range(starting , ending):\n",
    "        if i % 2 == 0:\n",
    "            print(i , 'even')\n",
    "        else:\n",
    "            print(i , 'odd')\n",
    "        "
   ]
  },
  {
   "cell_type": "code",
   "execution_count": 49,
   "id": "58b141ba",
   "metadata": {},
   "outputs": [],
   "source": [
    "\n",
    "def even_odd(starting , ending):\n",
    "     for i in range(starting, ending):\n",
    "            if i %2==0:\n",
    "                print(i , 'even')\n",
    "            else:\n",
    "                print(i , 'odd')\n",
    "    \n",
    "   \n",
    "        "
   ]
  },
  {
   "cell_type": "code",
   "execution_count": 50,
   "id": "37393cc4",
   "metadata": {},
   "outputs": [
    {
     "name": "stdout",
     "output_type": "stream",
     "text": [
      "50 even\n",
      "51 odd\n",
      "52 even\n",
      "53 odd\n",
      "54 even\n",
      "55 odd\n",
      "56 even\n",
      "57 odd\n",
      "58 even\n",
      "59 odd\n",
      "60 even\n",
      "61 odd\n",
      "62 even\n",
      "63 odd\n",
      "64 even\n",
      "65 odd\n",
      "66 even\n",
      "67 odd\n",
      "68 even\n",
      "69 odd\n",
      "70 even\n"
     ]
    }
   ],
   "source": [
    "even_odd(50 ,71)"
   ]
  },
  {
   "cell_type": "code",
   "execution_count": 66,
   "id": "8fd174a0",
   "metadata": {},
   "outputs": [],
   "source": [
    "def palindrome(number):\n",
    "    \n",
    "    temp = number\n",
    "    count = 0\n",
    "    while number > 0:\n",
    "        res = number % 10 \n",
    "        count = (count * 10) + res\n",
    "        number = number // 10\n",
    "        \n",
    "        \n",
    "    if temp == count:\n",
    "        print(count , 'It is a palindrome number')\n",
    "    else:\n",
    "        print(count , 'Not a palindrome number')\n",
    "    "
   ]
  },
  {
   "cell_type": "code",
   "execution_count": 68,
   "id": "24e9281c",
   "metadata": {},
   "outputs": [
    {
     "name": "stdout",
     "output_type": "stream",
     "text": [
      "121 It is a palindrome number\n"
     ]
    }
   ],
   "source": [
    "palindrome(121)"
   ]
  },
  {
   "cell_type": "code",
   "execution_count": 8,
   "id": "218d68af",
   "metadata": {},
   "outputs": [],
   "source": [
    "ramesh_age=30\n",
    "suresh_age=38\n",
    "rajesh_age=45\n",
    "def age(ramesh_age , suresh_age , rajesh_age):\n",
    "    return(ramesh_age + suresh_age + rajesh_age)\n",
    "    \n",
    "    \n",
    "    "
   ]
  },
  {
   "cell_type": "code",
   "execution_count": 11,
   "id": "2f86173c",
   "metadata": {},
   "outputs": [
    {
     "name": "stdout",
     "output_type": "stream",
     "text": [
      "113\n"
     ]
    }
   ],
   "source": [
    "z=age(ramesh_age , suresh_age , rajesh_age)\n",
    "z=age(ramesh_age , suresh_age , rajesh_age)\n",
    "print(z)"
   ]
  },
  {
   "cell_type": "code",
   "execution_count": 89,
   "id": "9da0405f",
   "metadata": {},
   "outputs": [
    {
     "data": {
      "text/plain": [
       "(77, 27)"
      ]
     },
     "execution_count": 89,
     "metadata": {},
     "output_type": "execute_result"
    }
   ],
   "source": [
    "def im(a , b):\n",
    "    num1 = a + b\n",
    "    numb2 = b -a \n",
    "    return num1 , numb2\n",
    "\n",
    "\n",
    "im (25 , 52)\n",
    "\n",
    "    \n",
    "    "
   ]
  },
  {
   "cell_type": "code",
   "execution_count": 91,
   "id": "5d10425c",
   "metadata": {},
   "outputs": [
    {
     "name": "stdout",
     "output_type": "stream",
     "text": [
      "104\n"
     ]
    }
   ],
   "source": [
    "one , two = im(25 , 52)\n",
    "print(one + two)\n"
   ]
  },
  {
   "cell_type": "code",
   "execution_count": 110,
   "id": "d96cb083",
   "metadata": {},
   "outputs": [
    {
     "name": "stdout",
     "output_type": "stream",
     "text": [
      "204\n",
      "222\n",
      "426\n"
     ]
    }
   ],
   "source": [
    "def study(x):\n",
    "    n=0\n",
    "    o=0\n",
    "    for i in x:\n",
    "        if i %2 ==0:            \n",
    "            n=n+i\n",
    "        \n",
    "    for i in x:\n",
    "        if i %3 ==0:\n",
    "            o=o+i\n",
    "    return n , o\n",
    "\n",
    "        \n",
    "l , z =study(x)        \n",
    "\n",
    "print(l)\n",
    "print(z)\n",
    "    \n",
    "print(l+z)"
   ]
  },
  {
   "cell_type": "code",
   "execution_count": 109,
   "id": "125ca466",
   "metadata": {},
   "outputs": [],
   "source": [
    "x= [25 , 85 , 65 , 75 , 65 , 58 , 84 , 62 , 63]"
   ]
  },
  {
   "cell_type": "code",
   "execution_count": 112,
   "id": "af53e3f4",
   "metadata": {},
   "outputs": [
    {
     "ename": "TypeError",
     "evalue": "'int' object is not callable",
     "output_type": "error",
     "traceback": [
      "\u001b[1;31m---------------------------------------------------------------------------\u001b[0m",
      "\u001b[1;31mTypeError\u001b[0m                                 Traceback (most recent call last)",
      "Cell \u001b[1;32mIn[112], line 3\u001b[0m\n\u001b[0;32m      1\u001b[0m \u001b[38;5;28minput\u001b[39m \u001b[38;5;241m=\u001b[39m \u001b[38;5;124m'\u001b[39m\u001b[38;5;124msai kamal\u001b[39m\u001b[38;5;124m'\u001b[39m\n\u001b[0;32m      2\u001b[0m \u001b[38;5;28;01mfor\u001b[39;00m i \u001b[38;5;129;01min\u001b[39;00m \u001b[38;5;28minput\u001b[39m:\n\u001b[1;32m----> 3\u001b[0m     \u001b[43mcount\u001b[49m\u001b[43m(\u001b[49m\u001b[43mi\u001b[49m\u001b[43m)\u001b[49m\n",
      "\u001b[1;31mTypeError\u001b[0m: 'int' object is not callable"
     ]
    }
   ],
   "source": [
    "input = 'sai kamal'\n",
    "for i in input:\n",
    "    "
   ]
  },
  {
   "cell_type": "markdown",
   "id": "6456537d",
   "metadata": {},
   "source": [
    "#find number of carector in my name \n",
    "\n",
    "def exercise(a):\n",
    "    empty_dict = {}\n",
    "    for i in a:\n",
    "        if i in empty_dict.keys():\n",
    "            empty_dict[i] = empty_dict[i] + 1\n",
    "        else:\n",
    "            empty_dict[i] = 1\n",
    "            \n",
    "    return empty_dict\n",
    "    "
   ]
  },
  {
   "cell_type": "code",
   "execution_count": 130,
   "id": "1416baea",
   "metadata": {},
   "outputs": [],
   "source": [
    "def check(r):\n",
    "    emty = {}\n",
    "    for i in r:\n",
    "        if i in emty.keys():\n",
    "            emty[i]=emty[i] + 1\n",
    "        else: \n",
    "            emty[i]=1\n",
    "    return emty\n",
    "            "
   ]
  },
  {
   "cell_type": "code",
   "execution_count": 131,
   "id": "19a53fa1",
   "metadata": {},
   "outputs": [
    {
     "name": "stdout",
     "output_type": "stream",
     "text": [
      "{'r': 2, 'i': 1, 's': 1, 'h': 3, 'a': 6, 'n': 1, ' ': 1, 'b': 1, 't': 2, 'c': 1, 'y': 1}\n"
     ]
    }
   ],
   "source": [
    "r='rishaan bhattacharya'\n",
    "am = check(r)\n",
    "print(am)\n"
   ]
  },
  {
   "cell_type": "code",
   "execution_count": 142,
   "id": "f6ead010",
   "metadata": {},
   "outputs": [],
   "source": [
    "def lol(a):\n",
    "    em={}\n",
    "    for i in a:\n",
    "        if i in em.keys():\n",
    "            em[i]=em[i]+1\n",
    "        else: \n",
    "            em[i]=1\n",
    "    return em\n",
    "               "
   ]
  },
  {
   "cell_type": "code",
   "execution_count": 143,
   "id": "ca8ce94a",
   "metadata": {},
   "outputs": [
    {
     "name": "stdout",
     "output_type": "stream",
     "text": [
      "{'s': 1, 'u': 1, 'j': 1, 'o': 1, 'y': 2, ' ': 1, 'b': 1, 'h': 2, 'a': 4, 't': 2, 'c': 1, 'r': 1}\n"
     ]
    }
   ],
   "source": [
    "a=\"sujoy bhattacharya\"\n",
    "ats=lol(a)\n",
    "print(ats)"
   ]
  },
  {
   "cell_type": "code",
   "execution_count": 26,
   "id": "e96a5e91",
   "metadata": {},
   "outputs": [],
   "source": [
    "def sos(b):\n",
    "    emt={}\n",
    "    for i in b:\n",
    "        if i in emt.keys():\n",
    "            emt[i]=emt[i]+1\n",
    "        else:\n",
    "            emt[i]=1\n",
    "    return emt\n",
    "    "
   ]
  },
  {
   "cell_type": "code",
   "execution_count": 27,
   "id": "c659ffa3",
   "metadata": {},
   "outputs": [
    {
     "name": "stdout",
     "output_type": "stream",
     "text": [
      "{'g': 2, 'a': 5, 'r': 2, 'e': 2, ' ': 1, 'b': 1, 'h': 2, 't': 2, 'c': 1, 'y': 1}\n"
     ]
    }
   ],
   "source": [
    "b='gargee bhattacharya'\n",
    "am=sos(b)\n",
    "print(am)"
   ]
  },
  {
   "cell_type": "code",
   "execution_count": 36,
   "id": "1414958d",
   "metadata": {},
   "outputs": [],
   "source": [
    "def result(y):\n",
    "    print('congratulations')\n",
    "    print('you are passed' , y)\n",
    "\n",
    "    \n"
   ]
  },
  {
   "cell_type": "code",
   "execution_count": 39,
   "id": "c02220ec",
   "metadata": {},
   "outputs": [
    {
     "name": "stdout",
     "output_type": "stream",
     "text": [
      "congratulations\n",
      "you are passed 65 out of 100\n"
     ]
    }
   ],
   "source": [
    "result('65 out of 100')"
   ]
  },
  {
   "cell_type": "code",
   "execution_count": 45,
   "id": "ff7ad10f",
   "metadata": {},
   "outputs": [],
   "source": [
    "def sol(y):\n",
    "    if y==0 or y==1:\n",
    "        return 1\n",
    "    else:\n",
    "        print(y*sol(y-1))\n",
    "        \n",
    "        \n",
    "            \n",
    "    \n",
    "    "
   ]
  },
  {
   "cell_type": "code",
   "execution_count": 43,
   "id": "6f54e87d",
   "metadata": {},
   "outputs": [
    {
     "data": {
      "text/plain": [
       "24"
      ]
     },
     "execution_count": 43,
     "metadata": {},
     "output_type": "execute_result"
    }
   ],
   "source": [
    "sol(4)"
   ]
  },
  {
   "cell_type": "code",
   "execution_count": null,
   "id": "9438f4d5",
   "metadata": {},
   "outputs": [],
   "source": []
  }
 ],
 "metadata": {
  "kernelspec": {
   "display_name": "Python 3 (ipykernel)",
   "language": "python",
   "name": "python3"
  },
  "language_info": {
   "codemirror_mode": {
    "name": "ipython",
    "version": 3
   },
   "file_extension": ".py",
   "mimetype": "text/x-python",
   "name": "python",
   "nbconvert_exporter": "python",
   "pygments_lexer": "ipython3",
   "version": "3.10.9"
  }
 },
 "nbformat": 4,
 "nbformat_minor": 5
}
