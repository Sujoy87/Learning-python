{
 "cells": [
  {
   "cell_type": "markdown",
   "id": "a9b30193",
   "metadata": {},
   "source": [
    "# Learn tuple"
   ]
  },
  {
   "cell_type": "code",
   "execution_count": 1,
   "id": "a3b7fd88",
   "metadata": {},
   "outputs": [
    {
     "name": "stdout",
     "output_type": "stream",
     "text": [
      "('bhattacharya', 3, 4, 2016)\n"
     ]
    }
   ],
   "source": [
    "rishaan=('bhattacharya', 3 , 4 , 2016)\n",
    "print(rishaan)"
   ]
  },
  {
   "cell_type": "code",
   "execution_count": 3,
   "id": "9e6c5eb7",
   "metadata": {},
   "outputs": [
    {
     "data": {
      "text/plain": [
       "tuple"
      ]
     },
     "execution_count": 3,
     "metadata": {},
     "output_type": "execute_result"
    }
   ],
   "source": [
    "type(rishaan)"
   ]
  },
  {
   "cell_type": "code",
   "execution_count": 5,
   "id": "c68a5587",
   "metadata": {},
   "outputs": [
    {
     "name": "stdout",
     "output_type": "stream",
     "text": [
      "<class 'tuple'>\n"
     ]
    }
   ],
   "source": [
    "b=10,\n",
    "print(type(b))"
   ]
  },
  {
   "cell_type": "code",
   "execution_count": 14,
   "id": "59771879",
   "metadata": {},
   "outputs": [
    {
     "name": "stdout",
     "output_type": "stream",
     "text": [
      "('bhattacharya, 3 , 4 , 2016',)\n"
     ]
    }
   ],
   "source": [
    "#we can convert list to tuple\n",
    "rishaan=['bhattacharya, 3 , 4 , 2016']\n",
    "type(rishaan)\n",
    "misthu=tuple(rishaan)\n",
    "print(misthu)"
   ]
  },
  {
   "cell_type": "code",
   "execution_count": 23,
   "id": "625dd94d",
   "metadata": {},
   "outputs": [
    {
     "name": "stdout",
     "output_type": "stream",
     "text": [
      "['bhattacharya', 3, 4, 2016]\n"
     ]
    },
    {
     "data": {
      "text/plain": [
       "list"
      ]
     },
     "execution_count": 23,
     "metadata": {},
     "output_type": "execute_result"
    }
   ],
   "source": [
    "r=('bhattacharya', 3 , 4 , 2016)\n",
    "type(r)\n",
    "b=list(r)\n",
    "print(b)\n",
    "type(b)"
   ]
  },
  {
   "cell_type": "code",
   "execution_count": 36,
   "id": "6f030434",
   "metadata": {},
   "outputs": [
    {
     "data": {
      "text/plain": [
       "3"
      ]
     },
     "execution_count": 36,
     "metadata": {},
     "output_type": "execute_result"
    }
   ],
   "source": [
    "s=(25 , 35 , 28 , 65 ,35 , 35) \n",
    "type(s)\n",
    "s.count(35)\n"
   ]
  },
  {
   "cell_type": "code",
   "execution_count": 35,
   "id": "b4b51be3",
   "metadata": {},
   "outputs": [
    {
     "data": {
      "text/plain": [
       "1"
      ]
     },
     "execution_count": 35,
     "metadata": {},
     "output_type": "execute_result"
    }
   ],
   "source": [
    "s.index(35) "
   ]
  },
  {
   "cell_type": "code",
   "execution_count": 37,
   "id": "9c3b0d96",
   "metadata": {},
   "outputs": [
    {
     "data": {
      "text/plain": [
       "4"
      ]
     },
     "execution_count": 37,
     "metadata": {},
     "output_type": "execute_result"
    }
   ],
   "source": [
    "s.index(35, 3,5)"
   ]
  },
  {
   "cell_type": "code",
   "execution_count": 43,
   "id": "eec0cf7e",
   "metadata": {},
   "outputs": [
    {
     "name": "stdout",
     "output_type": "stream",
     "text": [
      "('bhattacharya', 3, 4, 2016, 25)\n"
     ]
    }
   ],
   "source": [
    "#can add memory space\n",
    "z=('bhattacharya', 3 , 4 , 2016 , 25)\n",
    "print(z)"
   ]
  },
  {
   "cell_type": "code",
   "execution_count": 58,
   "id": "56148619",
   "metadata": {},
   "outputs": [
    {
     "ename": "SyntaxError",
     "evalue": "invalid syntax (1511559144.py, line 2)",
     "output_type": "error",
     "traceback": [
      "\u001b[1;36m  Cell \u001b[1;32mIn[58], line 2\u001b[1;36m\u001b[0m\n\u001b[1;33m    value(::)\u001b[0m\n\u001b[1;37m          ^\u001b[0m\n\u001b[1;31mSyntaxError\u001b[0m\u001b[1;31m:\u001b[0m invalid syntax\n"
     ]
    }
   ],
   "source": [
    "value = 'I.love.programming.language'\n",
    "value="
   ]
  },
  {
   "cell_type": "code",
   "execution_count": null,
   "id": "06c22568",
   "metadata": {},
   "outputs": [],
   "source": []
  },
  {
   "cell_type": "code",
   "execution_count": null,
   "id": "df4d31de",
   "metadata": {},
   "outputs": [],
   "source": []
  }
 ],
 "metadata": {
  "kernelspec": {
   "display_name": "Python 3 (ipykernel)",
   "language": "python",
   "name": "python3"
  },
  "language_info": {
   "codemirror_mode": {
    "name": "ipython",
    "version": 3
   },
   "file_extension": ".py",
   "mimetype": "text/x-python",
   "name": "python",
   "nbconvert_exporter": "python",
   "pygments_lexer": "ipython3",
   "version": "3.10.9"
  }
 },
 "nbformat": 4,
 "nbformat_minor": 5
}
