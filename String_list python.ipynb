{
 "cells": [
  {
   "cell_type": "code",
   "execution_count": 13,
   "id": "4b28b84a",
   "metadata": {},
   "outputs": [
    {
     "name": "stdout",
     "output_type": "stream",
     "text": [
      "at\n"
     ]
    }
   ],
   "source": [
    "# Forward direction index \n",
    "# backward direction index \n",
    "\n",
    "myname=\"sujoy bhattacharya\"\n",
    "print(myname[8:10])\n"
   ]
  },
  {
   "cell_type": "code",
   "execution_count": 17,
   "id": "a1eb26c2",
   "metadata": {},
   "outputs": [
    {
     "name": "stdout",
     "output_type": "stream",
     "text": [
      "attacharya\n"
     ]
    }
   ],
   "source": [
    "myname=\"sujoy bhattacharya\" #slicing\n",
    "print(myname[8:])"
   ]
  },
  {
   "cell_type": "code",
   "execution_count": 16,
   "id": "3742c51e",
   "metadata": {},
   "outputs": [
    {
     "name": "stdout",
     "output_type": "stream",
     "text": [
      "sujoy bh\n"
     ]
    }
   ],
   "source": [
    "myname=\"sujoy bhattacharya\" #slicing\n",
    "print(myname[:8])"
   ]
  },
  {
   "cell_type": "code",
   "execution_count": 30,
   "id": "db36ea00",
   "metadata": {},
   "outputs": [
    {
     "name": "stdout",
     "output_type": "stream",
     "text": [
      "ayrahcattahb yojus\n"
     ]
    }
   ],
   "source": [
    "myname=\"sujoy bhattacharya\" #slicing\n",
    "print(myname[::-1])"
   ]
  },
  {
   "cell_type": "code",
   "execution_count": 18,
   "id": "ef1b5bd0",
   "metadata": {},
   "outputs": [
    {
     "name": "stdout",
     "output_type": "stream",
     "text": [
      "ata sc\n"
     ]
    }
   ],
   "source": [
    "#slicing operations on strings with index concepts:\n",
    "study='data science' #operation \n",
    "print(study[1:7])\n"
   ]
  },
  {
   "cell_type": "code",
   "execution_count": 23,
   "id": "c48471b5",
   "metadata": {},
   "outputs": [
    {
     "name": "stdout",
     "output_type": "stream",
     "text": [
      "ata sc\n"
     ]
    }
   ],
   "source": [
    "#slicing operations on strings with index concepts:\n",
    "study='data science' #operation (backward)\n",
    "print(study[-11:-5]) \n"
   ]
  },
  {
   "cell_type": "code",
   "execution_count": 24,
   "id": "23b63e2f",
   "metadata": {},
   "outputs": [
    {
     "name": "stdout",
     "output_type": "stream",
     "text": [
      "dacn\n"
     ]
    }
   ],
   "source": [
    "#skipping operations\n",
    "study='data science' \n",
    "print(study[0:11:3])\n"
   ]
  },
  {
   "cell_type": "code",
   "execution_count": 42,
   "id": "b3a52e62",
   "metadata": {},
   "outputs": [
    {
     "data": {
      "text/plain": [
       "5"
      ]
     },
     "execution_count": 42,
     "metadata": {},
     "output_type": "execute_result"
    }
   ],
   "source": [
    "study='data science'\n",
    "study.index('s' , 2, 6)"
   ]
  },
  {
   "cell_type": "code",
   "execution_count": 43,
   "id": "25878d49",
   "metadata": {},
   "outputs": [
    {
     "data": {
      "text/plain": [
       "'dztz science'"
      ]
     },
     "execution_count": 43,
     "metadata": {},
     "output_type": "execute_result"
    }
   ],
   "source": [
    "study='data science'\n",
    "study.replace('a' , 'z')"
   ]
  },
  {
   "cell_type": "code",
   "execution_count": 44,
   "id": "df4bad3d",
   "metadata": {},
   "outputs": [
    {
     "name": "stdout",
     "output_type": "stream",
     "text": [
      "data science\n"
     ]
    }
   ],
   "source": [
    "print(study)"
   ]
  },
  {
   "cell_type": "code",
   "execution_count": 45,
   "id": "223dd5f7",
   "metadata": {},
   "outputs": [
    {
     "data": {
      "text/plain": [
       "'my nQme is sujoy bhQttacharya'"
      ]
     },
     "execution_count": 45,
     "metadata": {},
     "output_type": "execute_result"
    }
   ],
   "source": [
    "a='my name is sujoy bhattacharya' #replace methord \n",
    "a.replace('a' , 'Q' , 2)"
   ]
  },
  {
   "cell_type": "code",
   "execution_count": 46,
   "id": "eeb474c7",
   "metadata": {},
   "outputs": [
    {
     "data": {
      "text/plain": [
       "'My name is sujoy bhattacharya'"
      ]
     },
     "execution_count": 46,
     "metadata": {},
     "output_type": "execute_result"
    }
   ],
   "source": [
    "a.capitalize()"
   ]
  },
  {
   "cell_type": "code",
   "execution_count": 50,
   "id": "2d051fdd",
   "metadata": {},
   "outputs": [
    {
     "data": {
      "text/plain": [
       "'My name is sujoy bhattacharya'"
      ]
     },
     "execution_count": 50,
     "metadata": {},
     "output_type": "execute_result"
    }
   ],
   "source": [
    "a.capitalize()"
   ]
  },
  {
   "cell_type": "code",
   "execution_count": 62,
   "id": "944be783",
   "metadata": {},
   "outputs": [
    {
     "data": {
      "text/plain": [
       "1"
      ]
     },
     "execution_count": 62,
     "metadata": {},
     "output_type": "execute_result"
    }
   ],
   "source": [
    "a='my name is sujoy bhattacharya my age is 36'\n",
    "a.count('my' , 1)"
   ]
  },
  {
   "cell_type": "code",
   "execution_count": 64,
   "id": "3a1ea840",
   "metadata": {},
   "outputs": [
    {
     "data": {
      "text/plain": [
       "1"
      ]
     },
     "execution_count": 64,
     "metadata": {},
     "output_type": "execute_result"
    }
   ],
   "source": [
    "a.count('36')"
   ]
  },
  {
   "cell_type": "code",
   "execution_count": 69,
   "id": "e8b14af6",
   "metadata": {},
   "outputs": [
    {
     "data": {
      "text/plain": [
       "True"
      ]
     },
     "execution_count": 69,
     "metadata": {},
     "output_type": "execute_result"
    }
   ],
   "source": [
    "a.endswith('36')"
   ]
  },
  {
   "cell_type": "code",
   "execution_count": 76,
   "id": "435dcb46",
   "metadata": {},
   "outputs": [
    {
     "data": {
      "text/plain": [
       "False"
      ]
     },
     "execution_count": 76,
     "metadata": {},
     "output_type": "execute_result"
    }
   ],
   "source": [
    "a.isalpha()"
   ]
  },
  {
   "cell_type": "code",
   "execution_count": 77,
   "id": "23cd13d6",
   "metadata": {},
   "outputs": [
    {
     "data": {
      "text/plain": [
       "False"
      ]
     },
     "execution_count": 77,
     "metadata": {},
     "output_type": "execute_result"
    }
   ],
   "source": [
    "a.isdecimal()"
   ]
  },
  {
   "cell_type": "code",
   "execution_count": 81,
   "id": "b525e78f",
   "metadata": {},
   "outputs": [
    {
     "data": {
      "text/plain": [
       "True"
      ]
     },
     "execution_count": 81,
     "metadata": {},
     "output_type": "execute_result"
    }
   ],
   "source": [
    "a.islower()"
   ]
  },
  {
   "cell_type": "code",
   "execution_count": 86,
   "id": "d1c576bd",
   "metadata": {},
   "outputs": [
    {
     "data": {
      "text/plain": [
       "False"
      ]
     },
     "execution_count": 86,
     "metadata": {},
     "output_type": "execute_result"
    }
   ],
   "source": [
    "a='my name is sujoy bhattacharya my age is 36'\n",
    "a.isspace()"
   ]
  },
  {
   "cell_type": "code",
   "execution_count": 87,
   "id": "ac39da38",
   "metadata": {},
   "outputs": [
    {
     "data": {
      "text/plain": [
       "True"
      ]
     },
     "execution_count": 87,
     "metadata": {},
     "output_type": "execute_result"
    }
   ],
   "source": [
    "a.isprintable()"
   ]
  },
  {
   "cell_type": "code",
   "execution_count": 88,
   "id": "f09711e0",
   "metadata": {},
   "outputs": [
    {
     "data": {
      "text/plain": [
       "False"
      ]
     },
     "execution_count": 88,
     "metadata": {},
     "output_type": "execute_result"
    }
   ],
   "source": [
    "a.istitle()"
   ]
  },
  {
   "cell_type": "code",
   "execution_count": 89,
   "id": "df8162de",
   "metadata": {},
   "outputs": [
    {
     "data": {
      "text/plain": [
       "True"
      ]
     },
     "execution_count": 89,
     "metadata": {},
     "output_type": "execute_result"
    }
   ],
   "source": [
    "a.startswith('my')"
   ]
  },
  {
   "cell_type": "code",
   "execution_count": 90,
   "id": "63efe952",
   "metadata": {},
   "outputs": [
    {
     "data": {
      "text/plain": [
       "'MY NAME IS SUJOY BHATTACHARYA MY AGE IS 36'"
      ]
     },
     "execution_count": 90,
     "metadata": {},
     "output_type": "execute_result"
    }
   ],
   "source": [
    "a='my name is sujoy bhattacharya my age is 36'\n",
    "a.upper()"
   ]
  },
  {
   "cell_type": "code",
   "execution_count": 91,
   "id": "d4928cde",
   "metadata": {},
   "outputs": [
    {
     "data": {
      "text/plain": [
       "'my name is sujoy bhattacharya my age is 36'"
      ]
     },
     "execution_count": 91,
     "metadata": {},
     "output_type": "execute_result"
    }
   ],
   "source": [
    "a.lower()"
   ]
  },
  {
   "cell_type": "code",
   "execution_count": 94,
   "id": "789e9943",
   "metadata": {},
   "outputs": [
    {
     "data": {
      "text/plain": [
       "True"
      ]
     },
     "execution_count": 94,
     "metadata": {},
     "output_type": "execute_result"
    }
   ],
   "source": [
    "a.islower()"
   ]
  },
  {
   "cell_type": "code",
   "execution_count": 95,
   "id": "b71b46a2",
   "metadata": {},
   "outputs": [
    {
     "data": {
      "text/plain": [
       "'My Name Is Sujoy Bhattacharya My Age Is 36'"
      ]
     },
     "execution_count": 95,
     "metadata": {},
     "output_type": "execute_result"
    }
   ],
   "source": [
    "a.title()"
   ]
  },
  {
   "cell_type": "code",
   "execution_count": 109,
   "id": "67880fdf",
   "metadata": {},
   "outputs": [
    {
     "name": "stdout",
     "output_type": "stream",
     "text": [
      "[25, 100, 358, 5, 'sujoy']\n"
     ]
    }
   ],
   "source": [
    "#list\n",
    "b=[25,100,358,5,'sujoy']\n",
    "print(b)"
   ]
  },
  {
   "cell_type": "code",
   "execution_count": 110,
   "id": "ef04903b",
   "metadata": {},
   "outputs": [
    {
     "name": "stdout",
     "output_type": "stream",
     "text": [
      "25\n"
     ]
    }
   ],
   "source": [
    "print(b[0])"
   ]
  },
  {
   "cell_type": "code",
   "execution_count": 113,
   "id": "f112b750",
   "metadata": {},
   "outputs": [
    {
     "name": "stdout",
     "output_type": "stream",
     "text": [
      "y\n"
     ]
    }
   ],
   "source": [
    "print(b[-1][4])"
   ]
  },
  {
   "cell_type": "code",
   "execution_count": 138,
   "id": "a97794ab",
   "metadata": {},
   "outputs": [],
   "source": [
    "b=[25,100,358,5,'sujoy']\n",
    "b.append(99)"
   ]
  },
  {
   "cell_type": "code",
   "execution_count": 139,
   "id": "39e8ab90",
   "metadata": {},
   "outputs": [
    {
     "name": "stdout",
     "output_type": "stream",
     "text": [
      "[25, 100, 358, 5, 'sujoy', 99]\n"
     ]
    }
   ],
   "source": [
    "print(b)"
   ]
  },
  {
   "cell_type": "code",
   "execution_count": null,
   "id": "c64d7f5a",
   "metadata": {},
   "outputs": [],
   "source": []
  }
 ],
 "metadata": {
  "kernelspec": {
   "display_name": "Python 3 (ipykernel)",
   "language": "python",
   "name": "python3"
  },
  "language_info": {
   "codemirror_mode": {
    "name": "ipython",
    "version": 3
   },
   "file_extension": ".py",
   "mimetype": "text/x-python",
   "name": "python",
   "nbconvert_exporter": "python",
   "pygments_lexer": "ipython3",
   "version": "3.10.9"
  }
 },
 "nbformat": 4,
 "nbformat_minor": 5
}
