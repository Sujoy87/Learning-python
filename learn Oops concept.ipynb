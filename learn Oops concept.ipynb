{
 "cells": [
  {
   "cell_type": "code",
   "execution_count": 1,
   "id": "9f610931",
   "metadata": {},
   "outputs": [
    {
     "name": "stdout",
     "output_type": "stream",
     "text": [
      "i am learning oops concept\n"
     ]
    }
   ],
   "source": [
    "class learn():\n",
    "    print('i am learning oops concept')"
   ]
  },
  {
   "cell_type": "code",
   "execution_count": 1,
   "id": "da17c528",
   "metadata": {},
   "outputs": [
    {
     "name": "stdout",
     "output_type": "stream",
     "text": [
      "900\n"
     ]
    }
   ],
   "source": [
    "class sujoy():\n",
    "    ab=25\n",
    "    cd=36\n",
    "obj=sujoy()\n",
    "print(obj.ab*obj.cd)"
   ]
  },
  {
   "cell_type": "code",
   "execution_count": 2,
   "id": "e0aed0db",
   "metadata": {},
   "outputs": [
    {
     "name": "stdout",
     "output_type": "stream",
     "text": [
      "198\n"
     ]
    }
   ],
   "source": [
    "class rishaan():\n",
    "    pass\n",
    "obj_sujoy=rishaan()\n",
    "obj.r=58\n",
    "obj.s=75\n",
    "obj.t=65\n",
    "print(obj.r+obj.s+obj.t)"
   ]
  },
  {
   "cell_type": "code",
   "execution_count": 23,
   "id": "2e0df19f",
   "metadata": {},
   "outputs": [
    {
     "name": "stdout",
     "output_type": "stream",
     "text": [
      "575\n",
      "142108547152020037174224853515625\n"
     ]
    }
   ],
   "source": [
    "class rishaan_1():\n",
    "    def __init__(self , a , b):\n",
    "        self.velue_1 = a\n",
    "        self.velue_2 = b\n",
    "    def multi(self):\n",
    "        return self.velue_1*self.velue_2\n",
    "    def _pow(self):\n",
    "        return self.velue_1**self.velue_2\n",
    "        \n",
    "        \n",
    "            \n",
    "suj =rishaan_1(25 , 23)\n",
    "sol_1= suj.multi()\n",
    "print(sol_1)\n",
    "sol_2=suj._pow()\n",
    "print(sol_2)"
   ]
  },
  {
   "cell_type": "code",
   "execution_count": 52,
   "id": "6f3ca5a6",
   "metadata": {},
   "outputs": [
    {
     "ename": "NameError",
     "evalue": "name 'sujo' is not defined",
     "output_type": "error",
     "traceback": [
      "\u001b[1;31m---------------------------------------------------------------------------\u001b[0m",
      "\u001b[1;31mNameError\u001b[0m                                 Traceback (most recent call last)",
      "Cell \u001b[1;32mIn[52], line 10\u001b[0m\n\u001b[0;32m      6\u001b[0m         \u001b[38;5;28;01mif\u001b[39;00m sujo\u001b[38;5;241m.\u001b[39mvalue_1\u001b[38;5;241m%\u001b[39m\u001b[38;5;241m2\u001b[39m\u001b[38;5;241m==\u001b[39m\u001b[38;5;241m0\u001b[39m:\n\u001b[0;32m      7\u001b[0m              \u001b[38;5;28;01mreturn\u001b[39;00m (\u001b[38;5;124m'\u001b[39m\u001b[38;5;124meven\u001b[39m\u001b[38;5;124m'\u001b[39m)\n\u001b[1;32m---> 10\u001b[0m sol_m\u001b[38;5;241m=\u001b[39m\u001b[43msujo\u001b[49m\u001b[38;5;241m.\u001b[39mdivid() \n\u001b[0;32m     11\u001b[0m \u001b[38;5;28mprint\u001b[39m(sol)\n\u001b[0;32m     13\u001b[0m sujo\u001b[38;5;241m=\u001b[39mris()\n",
      "\u001b[1;31mNameError\u001b[0m: name 'sujo' is not defined"
     ]
    }
   ],
   "source": [
    "class ris():\n",
    "    def __init__(self,velue_1):\n",
    "        sujo.velue_1=28\n",
    "    \n",
    "    def divid(self):\n",
    "        if sujo.value_1%2==0:\n",
    "             return ('even')\n",
    "       \n",
    "     \n",
    "sol_m=sujo.divid() \n",
    "print(sol)\n",
    "sujo=ris()    "
   ]
  },
  {
   "cell_type": "markdown",
   "id": "48433f0b",
   "metadata": {},
   "source": [
    "# Single inheritance"
   ]
  },
  {
   "cell_type": "code",
   "execution_count": 5,
   "id": "db76fc63",
   "metadata": {},
   "outputs": [
    {
     "name": "stdout",
     "output_type": "stream",
     "text": [
      "i am good\n"
     ]
    }
   ],
   "source": [
    "class real():\n",
    "    def it(self):\n",
    "        print('i am good')\n",
    "\n",
    "su=real()\n",
    "su.it()        "
   ]
  },
  {
   "cell_type": "code",
   "execution_count": 7,
   "id": "254ca8ce",
   "metadata": {},
   "outputs": [
    {
     "name": "stdout",
     "output_type": "stream",
     "text": [
      "i am good\n",
      "my name is ravi\n"
     ]
    }
   ],
   "source": [
    "class ravi(real):\n",
    "    def rav(self):\n",
    "        print('my name is ravi')\n",
    "suj=ravi()\n",
    "suj.it()\n",
    "suj.rav()\n"
   ]
  },
  {
   "cell_type": "markdown",
   "id": "c6938b9b",
   "metadata": {},
   "source": [
    "# multiple inheritance\n"
   ]
  },
  {
   "cell_type": "code",
   "execution_count": 14,
   "id": "312232c6",
   "metadata": {},
   "outputs": [
    {
     "name": "stdout",
     "output_type": "stream",
     "text": [
      "my name is ravi\n",
      "i am good\n",
      "i am multiple inharitance\n"
     ]
    }
   ],
   "source": [
    "class ravi(real):\n",
    "    def rav(self):\n",
    "        print('my name is ravi')\n",
    "\n",
    "\n",
    "\n",
    "class real():\n",
    "    def it(self):\n",
    "        print('i am good')\n",
    "\n",
    "class rohit(ravi , real):\n",
    "    def roh(self):\n",
    "        print('i am multiple inharitance')\n",
    "        \n",
    "lot=rohit()\n",
    "lot.rav()\n",
    "lot.it()\n",
    "lot.roh()"
   ]
  },
  {
   "cell_type": "markdown",
   "id": "3a880e33",
   "metadata": {},
   "source": [
    "## Hirarical Inheritance "
   ]
  },
  {
   "cell_type": "code",
   "execution_count": 16,
   "id": "7a66a354",
   "metadata": {},
   "outputs": [
    {
     "name": "stdout",
     "output_type": "stream",
     "text": [
      "my name is ravi\n",
      "i am good\n",
      "i am multi level inharitance\n",
      "my name is ravi\n"
     ]
    }
   ],
   "source": [
    "class rajeev(real):\n",
    "    def raj(self):\n",
    "        print('my name is ravi')\n",
    "\n",
    "\n",
    "\n",
    "class lokesh(rajeev):\n",
    "    def lok(self):\n",
    "        print('i am good')\n",
    "\n",
    "class ashvin(rajeev):\n",
    "    def ash(self):\n",
    "        print('i am multi level inharitance')\n",
    "        \n",
    "lot=lokesh()\n",
    "rot=ashvin()\n",
    "lot.raj()\n",
    "lot.lok()\n",
    "rot.ash()\n",
    "rot.raj()"
   ]
  },
  {
   "cell_type": "markdown",
   "id": "cf647257",
   "metadata": {},
   "source": [
    "# multi level "
   ]
  },
  {
   "cell_type": "code",
   "execution_count": 17,
   "id": "0aad19dc",
   "metadata": {},
   "outputs": [
    {
     "name": "stdout",
     "output_type": "stream",
     "text": [
      "my name is ravi\n",
      "i am good\n",
      "i am multi level inharitance\n",
      "my name is ravi\n"
     ]
    }
   ],
   "source": [
    "class rajeev(real):\n",
    "    def raj(self):\n",
    "        print('my name is ravi')\n",
    "\n",
    "\n",
    "\n",
    "class lokesh(rajeev):\n",
    "    def lok(self):\n",
    "        print('i am good')\n",
    "\n",
    "class ashvin(lokesh):\n",
    "    def ash(self):\n",
    "        print('i am multi level inharitance')\n",
    "        \n",
    "lot=lokesh()\n",
    "rot=ashvin()\n",
    "lot.raj()\n",
    "lot.lok()\n",
    "rot.ash()\n",
    "rot.raj()\n",
    "        "
   ]
  },
  {
   "cell_type": "markdown",
   "id": "b7ed87df",
   "metadata": {},
   "source": [
    "# hybrid inharetance"
   ]
  },
  {
   "cell_type": "code",
   "execution_count": 20,
   "id": "e51abbb1",
   "metadata": {},
   "outputs": [
    {
     "name": "stdout",
     "output_type": "stream",
     "text": [
      "my name is ravi\n",
      "i am good\n",
      "i am hybrid inharitance\n",
      "my name is ravi\n",
      "i am good\n",
      "i am hybrid inharitance\n",
      "i am hybrid\n"
     ]
    }
   ],
   "source": [
    "class rajeev(real):\n",
    "    def raj(self):\n",
    "        print('my name is ravi')\n",
    "\n",
    "\n",
    "\n",
    "class lokesh(rajeev):\n",
    "    def lok(self):\n",
    "        print('i am good')\n",
    "\n",
    "class ashvin(rajeev):\n",
    "    def ash(self):\n",
    "        print('i am hybrid inharitance')\n",
    "        \n",
    "class raj(lokesh , ashvin):\n",
    "    def raja(self):\n",
    "        print('i am hybrid')\n",
    "        \n",
    "lot=lokesh()\n",
    "rot=ashvin()\n",
    "raj_1=raj()\n",
    "lot.raj()\n",
    "lot.lok()\n",
    "rot.ash()\n",
    "rot.raj()\n",
    "raj_1.lok()\n",
    "raj_1.ash()\n",
    "raj_1.raja()"
   ]
  },
  {
   "cell_type": "markdown",
   "id": "13480d0e",
   "metadata": {},
   "source": [
    "# method overwriting"
   ]
  },
  {
   "cell_type": "code",
   "execution_count": 22,
   "id": "e4ada17c",
   "metadata": {},
   "outputs": [
    {
     "name": "stdout",
     "output_type": "stream",
     "text": [
      "my name is ravi\n",
      "i am good\n"
     ]
    }
   ],
   "source": [
    "class real():\n",
    "    def it(self):\n",
    "        print('i am good')\n",
    "        \n",
    "\n",
    "class ravi(real):\n",
    "    def it(self):\n",
    "        print('my name is ravi')\n",
    "suj=ravi()\n",
    "suj.it()\n"
   ]
  },
  {
   "cell_type": "markdown",
   "id": "091c58df",
   "metadata": {},
   "source": [
    "# amthod overloading "
   ]
  },
  {
   "cell_type": "code",
   "execution_count": 39,
   "id": "8e795102",
   "metadata": {},
   "outputs": [
    {
     "name": "stdout",
     "output_type": "stream",
     "text": [
      "25 is a odd number\n"
     ]
    }
   ],
   "source": [
    "class lltp():\n",
    "    def odd_even(self , a=None):\n",
    "        if a%2==0:\n",
    "            print(a ,'is a even number')\n",
    "        else:\n",
    "            print(a, 'is a odd number')\n",
    "lol=lltp()\n",
    "lol.odd_even(25)"
   ]
  },
  {
   "cell_type": "markdown",
   "id": "f256369e",
   "metadata": {},
   "source": [
    "#Abstraction"
   ]
  },
  {
   "cell_type": "code",
   "execution_count": 44,
   "id": "d16c8c97",
   "metadata": {},
   "outputs": [
    {
     "name": "stdout",
     "output_type": "stream",
     "text": [
      "its called adstraction\n"
     ]
    }
   ],
   "source": [
    "from abc import ABC\n",
    "\n",
    "class rajeev():\n",
    "    def raj(self):\n",
    "        pass\n",
    "    \n",
    "class rupem(rajeev):\n",
    "    def raj(self):\n",
    "        print('its called adstraction')\n",
    "obj_1=rupem()\n",
    "obj_1.raj()\n",
    "       "
   ]
  },
  {
   "cell_type": "code",
   "execution_count": null,
   "id": "9dbe201e",
   "metadata": {},
   "outputs": [],
   "source": []
  },
  {
   "cell_type": "code",
   "execution_count": null,
   "id": "9277047d",
   "metadata": {},
   "outputs": [],
   "source": []
  }
 ],
 "metadata": {
  "kernelspec": {
   "display_name": "Python 3 (ipykernel)",
   "language": "python",
   "name": "python3"
  },
  "language_info": {
   "codemirror_mode": {
    "name": "ipython",
    "version": 3
   },
   "file_extension": ".py",
   "mimetype": "text/x-python",
   "name": "python",
   "nbconvert_exporter": "python",
   "pygments_lexer": "ipython3",
   "version": "3.10.9"
  }
 },
 "nbformat": 4,
 "nbformat_minor": 5
}
