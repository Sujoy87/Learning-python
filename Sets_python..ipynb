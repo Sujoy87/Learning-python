{
 "cells": [
  {
   "cell_type": "markdown",
   "id": "bee611ed",
   "metadata": {},
   "source": [
    "# learned Sets"
   ]
  },
  {
   "cell_type": "code",
   "execution_count": 6,
   "id": "be538a88",
   "metadata": {},
   "outputs": [
    {
     "data": {
      "text/plain": [
       "set"
      ]
     },
     "execution_count": 6,
     "metadata": {},
     "output_type": "execute_result"
    }
   ],
   "source": [
    "home={93 , 'ram nagar' , 'sodala'}\n",
    "type(home)"
   ]
  },
  {
   "cell_type": "code",
   "execution_count": 7,
   "id": "ca88631f",
   "metadata": {},
   "outputs": [],
   "source": [
    "home={93 , 'ram nagar' , 'sodala'}\n",
    "home.add('sujoy')"
   ]
  },
  {
   "cell_type": "code",
   "execution_count": 8,
   "id": "9245d79b",
   "metadata": {},
   "outputs": [
    {
     "name": "stdout",
     "output_type": "stream",
     "text": [
      "{'ram nagar', 'sujoy', 93, 'sodala'}\n"
     ]
    }
   ],
   "source": [
    "print(home)"
   ]
  },
  {
   "cell_type": "code",
   "execution_count": 11,
   "id": "3f5610ac",
   "metadata": {},
   "outputs": [
    {
     "name": "stdout",
     "output_type": "stream",
     "text": [
      "{'ram nagar', 'sujoy', 93, 'sodala'}\n"
     ]
    }
   ],
   "source": [
    "home={93 , 'ram nagar' , 'sodala'}\n",
    "home.add('sujoy')\n",
    "print(home)"
   ]
  },
  {
   "cell_type": "code",
   "execution_count": 12,
   "id": "a6656187",
   "metadata": {},
   "outputs": [
    {
     "data": {
      "text/plain": [
       "'ram nagar'"
      ]
     },
     "execution_count": 12,
     "metadata": {},
     "output_type": "execute_result"
    }
   ],
   "source": [
    "home.pop()"
   ]
  },
  {
   "cell_type": "code",
   "execution_count": 13,
   "id": "7f770e79",
   "metadata": {},
   "outputs": [
    {
     "data": {
      "text/plain": [
       "'sujoy'"
      ]
     },
     "execution_count": 13,
     "metadata": {},
     "output_type": "execute_result"
    }
   ],
   "source": [
    "home.pop()"
   ]
  },
  {
   "cell_type": "code",
   "execution_count": 14,
   "id": "ee7c31a0",
   "metadata": {},
   "outputs": [
    {
     "name": "stdout",
     "output_type": "stream",
     "text": [
      "{93, 'sodala'}\n"
     ]
    }
   ],
   "source": [
    "print(home)"
   ]
  },
  {
   "cell_type": "code",
   "execution_count": 17,
   "id": "ac81be37",
   "metadata": {},
   "outputs": [],
   "source": [
    "home.add(95)"
   ]
  },
  {
   "cell_type": "code",
   "execution_count": 18,
   "id": "68b05f26",
   "metadata": {},
   "outputs": [
    {
     "name": "stdout",
     "output_type": "stream",
     "text": [
      "{93, 'sodala', 95}\n"
     ]
    }
   ],
   "source": [
    "print(home)"
   ]
  },
  {
   "cell_type": "code",
   "execution_count": 19,
   "id": "af60e83b",
   "metadata": {},
   "outputs": [],
   "source": [
    "home.clear()"
   ]
  },
  {
   "cell_type": "code",
   "execution_count": 20,
   "id": "3261610f",
   "metadata": {},
   "outputs": [
    {
     "name": "stdout",
     "output_type": "stream",
     "text": [
      "set()\n"
     ]
    }
   ],
   "source": [
    "print(home) for clear all varible velue "
   ]
  },
  {
   "cell_type": "code",
   "execution_count": 23,
   "id": "6f8aca9a",
   "metadata": {},
   "outputs": [
    {
     "name": "stdout",
     "output_type": "stream",
     "text": [
      "{'jupyter', 25, 'book'}\n"
     ]
    }
   ],
   "source": [
    "note={'book', 25 , 'jupyter'}\n",
    "print(note)"
   ]
  },
  {
   "cell_type": "code",
   "execution_count": 26,
   "id": "2a0627a5",
   "metadata": {},
   "outputs": [],
   "source": [
    "note.discard(25) #del velue member "
   ]
  },
  {
   "cell_type": "code",
   "execution_count": 27,
   "id": "f556d66b",
   "metadata": {},
   "outputs": [
    {
     "name": "stdout",
     "output_type": "stream",
     "text": [
      "{'jupyter', 'book'}\n"
     ]
    }
   ],
   "source": [
    "print(note)"
   ]
  },
  {
   "cell_type": "code",
   "execution_count": 28,
   "id": "44f9305e",
   "metadata": {},
   "outputs": [
    {
     "name": "stdout",
     "output_type": "stream",
     "text": [
      "{336, 65, 85, 23, 25, 45}\n"
     ]
    }
   ],
   "source": [
    "b={25 , 25 ,65 , 85 , 25 ,45 ,23 , 336 , 65}\n",
    "print(b) #sets removed duplicates "
   ]
  },
  {
   "cell_type": "code",
   "execution_count": 33,
   "id": "9bd706f6",
   "metadata": {},
   "outputs": [],
   "source": [
    "e=b"
   ]
  },
  {
   "cell_type": "code",
   "execution_count": 36,
   "id": "7b7f2eea",
   "metadata": {},
   "outputs": [
    {
     "name": "stdout",
     "output_type": "stream",
     "text": [
      "{336, 65, 85, 23, 25, 45}\n",
      "{336, 65, 85, 23, 25, 45}\n"
     ]
    }
   ],
   "source": [
    "print(b)\n",
    "print(e)"
   ]
  },
  {
   "cell_type": "code",
   "execution_count": 54,
   "id": "4bd2c3d1",
   "metadata": {},
   "outputs": [
    {
     "name": "stdout",
     "output_type": "stream",
     "text": [
      "{65, 75, 78, 85, 23, 25, 37, 38, 41, 45}\n"
     ]
    }
   ],
   "source": [
    "q = {23,25,78,45,45,78,85,38,65}\n",
    "p = {23,25,78,41,45,75,85,37,65}\n",
    "print(q.union(p))"
   ]
  },
  {
   "cell_type": "code",
   "execution_count": 55,
   "id": "3ccf6d34",
   "metadata": {},
   "outputs": [
    {
     "name": "stdout",
     "output_type": "stream",
     "text": [
      "{65, 45, 78, 85, 23, 25}\n"
     ]
    }
   ],
   "source": [
    "q = {23,25,78,45,45,78,85,38,65}\n",
    "p = {23,25,78,41,45,75,85,37,65}\n",
    "print(q.intersection(p))"
   ]
  },
  {
   "cell_type": "code",
   "execution_count": null,
   "id": "0757e225",
   "metadata": {},
   "outputs": [],
   "source": [
    " "
   ]
  }
 ],
 "metadata": {
  "kernelspec": {
   "display_name": "Python 3 (ipykernel)",
   "language": "python",
   "name": "python3"
  },
  "language_info": {
   "codemirror_mode": {
    "name": "ipython",
    "version": 3
   },
   "file_extension": ".py",
   "mimetype": "text/x-python",
   "name": "python",
   "nbconvert_exporter": "python",
   "pygments_lexer": "ipython3",
   "version": "3.10.9"
  }
 },
 "nbformat": 4,
 "nbformat_minor": 5
}
