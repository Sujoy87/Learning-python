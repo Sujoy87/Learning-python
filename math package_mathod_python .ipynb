{
 "cells": [
  {
   "cell_type": "markdown",
   "id": "80205e6e",
   "metadata": {},
   "source": [
    "# math_mathod_package"
   ]
  },
  {
   "cell_type": "code",
   "execution_count": 1,
   "id": "15a14e09",
   "metadata": {},
   "outputs": [],
   "source": [
    "import math"
   ]
  },
  {
   "cell_type": "code",
   "execution_count": 4,
   "id": "da5898c3",
   "metadata": {},
   "outputs": [
    {
     "data": {
      "text/plain": [
       "10.954451150103322"
      ]
     },
     "execution_count": 4,
     "metadata": {},
     "output_type": "execute_result"
    }
   ],
   "source": [
    "math.sqrt(120)"
   ]
  },
  {
   "cell_type": "code",
   "execution_count": 9,
   "id": "69204557",
   "metadata": {},
   "outputs": [
    {
     "data": {
      "text/plain": [
       "0.8934286578962789"
      ]
     },
     "execution_count": 9,
     "metadata": {},
     "output_type": "execute_result"
    }
   ],
   "source": [
    "math.sin(15000)"
   ]
  },
  {
   "cell_type": "code",
   "execution_count": 13,
   "id": "0ace92bf",
   "metadata": {},
   "outputs": [
    {
     "data": {
      "text/plain": [
       "5040"
      ]
     },
     "execution_count": 13,
     "metadata": {},
     "output_type": "execute_result"
    }
   ],
   "source": [
    "math.factorial(7)"
   ]
  },
  {
   "cell_type": "code",
   "execution_count": 14,
   "id": "1aa519cc",
   "metadata": {},
   "outputs": [
    {
     "data": {
      "text/plain": [
       "3.141592653589793"
      ]
     },
     "execution_count": 14,
     "metadata": {},
     "output_type": "execute_result"
    }
   ],
   "source": [
    "math.pi\n",
    "        "
   ]
  },
  {
   "cell_type": "code",
   "execution_count": 16,
   "id": "89a486ae",
   "metadata": {},
   "outputs": [
    {
     "data": {
      "text/plain": [
       "125.0"
      ]
     },
     "execution_count": 16,
     "metadata": {},
     "output_type": "execute_result"
    }
   ],
   "source": [
    "math.pow(5 , 3)"
   ]
  },
  {
   "cell_type": "code",
   "execution_count": 17,
   "id": "c0c8f87b",
   "metadata": {},
   "outputs": [
    {
     "ename": "ModuleNotFoundError",
     "evalue": "No module named 'pypdf2'",
     "output_type": "error",
     "traceback": [
      "\u001b[1;31m---------------------------------------------------------------------------\u001b[0m",
      "\u001b[1;31mModuleNotFoundError\u001b[0m                       Traceback (most recent call last)",
      "Cell \u001b[1;32mIn[17], line 1\u001b[0m\n\u001b[1;32m----> 1\u001b[0m \u001b[38;5;28;01mimport\u001b[39;00m \u001b[38;5;21;01mpypdf2\u001b[39;00m\n",
      "\u001b[1;31mModuleNotFoundError\u001b[0m: No module named 'pypdf2'"
     ]
    }
   ],
   "source": [
    "import pypdf2"
   ]
  },
  {
   "cell_type": "code",
   "execution_count": 18,
   "id": "7c28aa37",
   "metadata": {},
   "outputs": [
    {
     "name": "stdout",
     "output_type": "stream",
     "text": [
      "Collecting pypdf2\n",
      "  Downloading pypdf2-3.0.1-py3-none-any.whl (232 kB)\n",
      "     -------------------------------------- 232.6/232.6 kB 1.4 MB/s eta 0:00:00\n",
      "Installing collected packages: pypdf2\n",
      "Successfully installed pypdf2-3.0.1\n"
     ]
    }
   ],
   "source": [
    "!pip install pypdf2"
   ]
  },
  {
   "cell_type": "code",
   "execution_count": 19,
   "id": "50004aa3",
   "metadata": {},
   "outputs": [],
   "source": [
    "import os"
   ]
  },
  {
   "cell_type": "code",
   "execution_count": 20,
   "id": "329d697d",
   "metadata": {},
   "outputs": [
    {
     "data": {
      "text/plain": [
       "['$AV_AVG',\n",
       " '$RECYCLE.BIN',\n",
       " '.ipynb_checkpoints',\n",
       " '07_05_23_sunday_tuple.ipynb',\n",
       " '29_04_23_var_dtypes_print_type_conversion_operators.ipynb',\n",
       " '30-02-23_string_list.ipynb',\n",
       " 'ajay website',\n",
       " 'Camera',\n",
       " 'chromedriver_win32',\n",
       " 'chromedriver_win32.zip',\n",
       " \"Contact No Apr to Oct'21.xlsx\",\n",
       " 'data scientist course',\n",
       " 'DCIM',\n",
       " 'dictionary_python .ipynb',\n",
       " 'E WORLD.png',\n",
       " 'Gmail Booster_setup.exe',\n",
       " 'Google Map Data Extractor',\n",
       " 'JK Sweets',\n",
       " 'khole k hanuman ji',\n",
       " 'Learn tuple.ipynb',\n",
       " 'math package_mathod_python .ipynb',\n",
       " 'Multline comment.ipynb',\n",
       " 'pink city farm',\n",
       " 'print_stmt_variables_strings.ipynb',\n",
       " 'python file',\n",
       " 'school image.psd',\n",
       " 'SEHJ OP data Dec.2017 to Jan.2020.xlsx',\n",
       " 'Sets_python..ipynb',\n",
       " 'shiv shankar',\n",
       " 'Strings .ipynb',\n",
       " 'System Volume Information',\n",
       " 'thumblin',\n",
       " 'Untitled Folder',\n",
       " 'untitled.txt',\n",
       " 'WhatsApp',\n",
       " 'WhatsApp Business']"
      ]
     },
     "execution_count": 20,
     "metadata": {},
     "output_type": "execute_result"
    }
   ],
   "source": [
    "os.listdir()"
   ]
  },
  {
   "cell_type": "code",
   "execution_count": 24,
   "id": "e4bf5dc7",
   "metadata": {},
   "outputs": [
    {
     "data": {
      "text/plain": [
       "['$AV_AVG',\n",
       " '$RECYCLE.BIN',\n",
       " '.ipynb_checkpoints',\n",
       " '07_05_23_sunday_tuple.ipynb',\n",
       " '29_04_23_var_dtypes_print_type_conversion_operators.ipynb',\n",
       " '30-02-23_string_list.ipynb',\n",
       " 'ajay website',\n",
       " 'Camera',\n",
       " 'chromedriver_win32',\n",
       " 'chromedriver_win32.zip',\n",
       " \"Contact No Apr to Oct'21.xlsx\",\n",
       " 'data scientist course',\n",
       " 'DCIM',\n",
       " 'dictionary_python .ipynb',\n",
       " 'E WORLD.png',\n",
       " 'Gmail Booster_setup.exe',\n",
       " 'Google Map Data Extractor',\n",
       " 'JK Sweets',\n",
       " 'khole k hanuman ji',\n",
       " 'Learn tuple.ipynb',\n",
       " 'math package_mathod_python .ipynb',\n",
       " 'Multline comment.ipynb',\n",
       " 'pink city farm',\n",
       " 'print_stmt_variables_strings.ipynb',\n",
       " 'python file',\n",
       " 'school image.psd',\n",
       " 'SEHJ OP data Dec.2017 to Jan.2020.xlsx',\n",
       " 'Sets_python..ipynb',\n",
       " 'shiv shankar',\n",
       " 'Strings .ipynb',\n",
       " 'System Volume Information',\n",
       " 'thumblin',\n",
       " 'Untitled Folder',\n",
       " 'untitled.txt',\n",
       " 'WhatsApp',\n",
       " 'WhatsApp Business']"
      ]
     },
     "execution_count": 24,
     "metadata": {},
     "output_type": "execute_result"
    }
   ],
   "source": [
    "os.listdir('./../') #it's in D drive so preveas path"
   ]
  },
  {
   "cell_type": "code",
   "execution_count": null,
   "id": "4098d9a5",
   "metadata": {},
   "outputs": [],
   "source": []
  }
 ],
 "metadata": {
  "kernelspec": {
   "display_name": "Python 3 (ipykernel)",
   "language": "python",
   "name": "python3"
  },
  "language_info": {
   "codemirror_mode": {
    "name": "ipython",
    "version": 3
   },
   "file_extension": ".py",
   "mimetype": "text/x-python",
   "name": "python",
   "nbconvert_exporter": "python",
   "pygments_lexer": "ipython3",
   "version": "3.10.9"
  }
 },
 "nbformat": 4,
 "nbformat_minor": 5
}
