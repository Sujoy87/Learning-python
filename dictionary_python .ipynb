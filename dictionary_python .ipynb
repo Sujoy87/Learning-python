{
 "cells": [
  {
   "cell_type": "markdown",
   "id": "6324ed91",
   "metadata": {},
   "source": [
    "## Dictionary "
   ]
  },
  {
   "cell_type": "code",
   "execution_count": 5,
   "id": "a690b57f",
   "metadata": {},
   "outputs": [
    {
     "data": {
      "text/plain": [
       "dict"
      ]
     },
     "execution_count": 5,
     "metadata": {},
     "output_type": "execute_result"
    }
   ],
   "source": [
    "a={'sujoy':[36,25,28] , 'rishaan':[6,4,2016]}\n",
    "type(a)"
   ]
  },
  {
   "cell_type": "code",
   "execution_count": 6,
   "id": "2cb3659c",
   "metadata": {},
   "outputs": [
    {
     "name": "stdout",
     "output_type": "stream",
     "text": [
      "{'sujoy': [36, 25, 28], 'rishaan': [6, 4, 2016]}\n"
     ]
    }
   ],
   "source": [
    "print(a)"
   ]
  },
  {
   "cell_type": "code",
   "execution_count": 17,
   "id": "8077f309",
   "metadata": {},
   "outputs": [
    {
     "data": {
      "text/plain": [
       "dict_values([36, 6])"
      ]
     },
     "execution_count": 17,
     "metadata": {},
     "output_type": "execute_result"
    }
   ],
   "source": [
    "a.keys()\n",
    "a.values()"
   ]
  },
  {
   "cell_type": "code",
   "execution_count": 25,
   "id": "4a79baab",
   "metadata": {},
   "outputs": [
    {
     "name": "stdout",
     "output_type": "stream",
     "text": [
      "{'sujoy': 36, 'rishaan': 6, 'bike': 25}\n"
     ]
    }
   ],
   "source": [
    "b={'sujoy':36 , 'rishaan':6, 'bike':25}\n",
    "print(b)"
   ]
  },
  {
   "cell_type": "code",
   "execution_count": 26,
   "id": "42df8e2c",
   "metadata": {},
   "outputs": [
    {
     "data": {
      "text/plain": [
       "dict_values([36, 6, 25])"
      ]
     },
     "execution_count": 26,
     "metadata": {},
     "output_type": "execute_result"
    }
   ],
   "source": [
    "b.values()"
   ]
  },
  {
   "cell_type": "code",
   "execution_count": 27,
   "id": "3a52ecb0",
   "metadata": {},
   "outputs": [
    {
     "data": {
      "text/plain": [
       "36"
      ]
     },
     "execution_count": 27,
     "metadata": {},
     "output_type": "execute_result"
    }
   ],
   "source": [
    "b['sujoy']"
   ]
  },
  {
   "cell_type": "code",
   "execution_count": 29,
   "id": "f5762a54",
   "metadata": {},
   "outputs": [],
   "source": [
    "b.clear()"
   ]
  },
  {
   "cell_type": "code",
   "execution_count": 30,
   "id": "6a83b5af",
   "metadata": {},
   "outputs": [
    {
     "name": "stdout",
     "output_type": "stream",
     "text": [
      "{}\n"
     ]
    }
   ],
   "source": [
    "print(b)"
   ]
  },
  {
   "cell_type": "code",
   "execution_count": 31,
   "id": "45ace443",
   "metadata": {},
   "outputs": [],
   "source": [
    "a={'sujoy':[36,25,28] , 'rishaan':[6,4,2016]}\n",
    "n=a.copy()"
   ]
  },
  {
   "cell_type": "code",
   "execution_count": 33,
   "id": "d7c4404a",
   "metadata": {},
   "outputs": [
    {
     "name": "stdout",
     "output_type": "stream",
     "text": [
      "{'sujoy': [36, 25, 28], 'rishaan': [6, 4, 2016]}\n",
      "{'sujoy': [36, 25, 28], 'rishaan': [6, 4, 2016]}\n"
     ]
    }
   ],
   "source": [
    "print(n)\n",
    "print(a)"
   ]
  },
  {
   "cell_type": "code",
   "execution_count": 34,
   "id": "a2fcedad",
   "metadata": {},
   "outputs": [
    {
     "data": {
      "text/plain": [
       "dict_items([('sujoy', [36, 25, 28]), ('rishaan', [6, 4, 2016])])"
      ]
     },
     "execution_count": 34,
     "metadata": {},
     "output_type": "execute_result"
    }
   ],
   "source": [
    "a.items()"
   ]
  },
  {
   "cell_type": "code",
   "execution_count": 38,
   "id": "3ad7b128",
   "metadata": {},
   "outputs": [],
   "source": [
    "a['ramesh']=21"
   ]
  },
  {
   "cell_type": "code",
   "execution_count": 39,
   "id": "816c593b",
   "metadata": {},
   "outputs": [
    {
     "name": "stdout",
     "output_type": "stream",
     "text": [
      "{'sujoy': [36, 25, 28], 'rishaan': [6, 4, 2016], 'ramesh': 21}\n"
     ]
    }
   ],
   "source": [
    "print(a)"
   ]
  },
  {
   "cell_type": "code",
   "execution_count": 46,
   "id": "580e7ef1",
   "metadata": {},
   "outputs": [
    {
     "data": {
      "text/plain": [
       "[36, 25, 28]"
      ]
     },
     "execution_count": 46,
     "metadata": {},
     "output_type": "execute_result"
    }
   ],
   "source": [
    "a.pop('sujoy')"
   ]
  },
  {
   "cell_type": "code",
   "execution_count": 47,
   "id": "0b75e241",
   "metadata": {},
   "outputs": [
    {
     "name": "stdout",
     "output_type": "stream",
     "text": [
      "{'rishaan': [6, 4, 2016], 'ramesh': 21}\n"
     ]
    }
   ],
   "source": [
    "print(a)"
   ]
  },
  {
   "cell_type": "code",
   "execution_count": 48,
   "id": "f413064a",
   "metadata": {},
   "outputs": [
    {
     "data": {
      "text/plain": [
       "('ramesh', 21)"
      ]
     },
     "execution_count": 48,
     "metadata": {},
     "output_type": "execute_result"
    }
   ],
   "source": [
    "a.popitem() #last item will be removed"
   ]
  },
  {
   "cell_type": "code",
   "execution_count": 52,
   "id": "3b278e7a",
   "metadata": {},
   "outputs": [
    {
     "name": "stdout",
     "output_type": "stream",
     "text": [
      "{'rishaan': [6, 4, 2016]}\n"
     ]
    }
   ],
   "source": [
    "print(a)"
   ]
  },
  {
   "cell_type": "code",
   "execution_count": 56,
   "id": "5fa0968f",
   "metadata": {},
   "outputs": [],
   "source": [
    "w={'ramesh': 25 , 'rohit':45 , 'yash':85}"
   ]
  },
  {
   "cell_type": "code",
   "execution_count": 64,
   "id": "5dfc592a",
   "metadata": {},
   "outputs": [],
   "source": [
    "m=w"
   ]
  },
  {
   "cell_type": "code",
   "execution_count": 65,
   "id": "4792bd64",
   "metadata": {},
   "outputs": [
    {
     "name": "stdout",
     "output_type": "stream",
     "text": [
      "{'ramesh': 25, 'rohit': 45, 'yash': 85}\n",
      "{'ramesh': 25, 'rohit': 45, 'yash': 85}\n"
     ]
    }
   ],
   "source": [
    "print(m)\n",
    "print(w)"
   ]
  },
  {
   "cell_type": "code",
   "execution_count": 66,
   "id": "566c06e4",
   "metadata": {},
   "outputs": [],
   "source": [
    " m.clear()"
   ]
  },
  {
   "cell_type": "code",
   "execution_count": 67,
   "id": "220dc2a9",
   "metadata": {},
   "outputs": [
    {
     "name": "stdout",
     "output_type": "stream",
     "text": [
      "{}\n"
     ]
    }
   ],
   "source": [
    "print(m)"
   ]
  },
  {
   "cell_type": "code",
   "execution_count": 72,
   "id": "4b602c02",
   "metadata": {},
   "outputs": [],
   "source": [
    "m['ramesh'] = 25"
   ]
  },
  {
   "cell_type": "code",
   "execution_count": 73,
   "id": "fe56925b",
   "metadata": {},
   "outputs": [
    {
     "data": {
      "text/plain": [
       "25"
      ]
     },
     "execution_count": 73,
     "metadata": {},
     "output_type": "execute_result"
    }
   ],
   "source": [
    "m.pop('ramesh')"
   ]
  },
  {
   "cell_type": "code",
   "execution_count": 80,
   "id": "4f424459",
   "metadata": {},
   "outputs": [],
   "source": [
    "m['ramesh']=25, 28 , 25"
   ]
  },
  {
   "cell_type": "code",
   "execution_count": 78,
   "id": "f6e39798",
   "metadata": {},
   "outputs": [],
   "source": [
    "m['rajesh']=36, 12, 37"
   ]
  },
  {
   "cell_type": "code",
   "execution_count": 81,
   "id": "1721034d",
   "metadata": {},
   "outputs": [
    {
     "name": "stdout",
     "output_type": "stream",
     "text": [
      "{'ramesh': (25, 28, 25), 'rajesh': (36, 12, 37)}\n"
     ]
    }
   ],
   "source": [
    "print(m)"
   ]
  },
  {
   "cell_type": "code",
   "execution_count": 82,
   "id": "09bcdb6a",
   "metadata": {},
   "outputs": [
    {
     "data": {
      "text/plain": [
       "('rajesh', (36, 12, 37))"
      ]
     },
     "execution_count": 82,
     "metadata": {},
     "output_type": "execute_result"
    }
   ],
   "source": [
    "m.popitem()"
   ]
  },
  {
   "cell_type": "code",
   "execution_count": 83,
   "id": "1fb54d22",
   "metadata": {},
   "outputs": [
    {
     "name": "stdout",
     "output_type": "stream",
     "text": [
      "{'ramesh': (25, 28, 25)}\n"
     ]
    }
   ],
   "source": [
    "print(m)"
   ]
  },
  {
   "cell_type": "code",
   "execution_count": 84,
   "id": "71dec757",
   "metadata": {},
   "outputs": [],
   "source": [
    "m['ram']=85, 25, 36"
   ]
  },
  {
   "cell_type": "code",
   "execution_count": 85,
   "id": "b2344f36",
   "metadata": {},
   "outputs": [
    {
     "name": "stdout",
     "output_type": "stream",
     "text": [
      "{'ramesh': (25, 28, 25), 'ram': (85, 25, 36)}\n"
     ]
    }
   ],
   "source": [
    "print(m)"
   ]
  },
  {
   "cell_type": "code",
   "execution_count": 87,
   "id": "84732a1e",
   "metadata": {},
   "outputs": [
    {
     "data": {
      "text/plain": [
       "('ram', (85, 25, 36))"
      ]
     },
     "execution_count": 87,
     "metadata": {},
     "output_type": "execute_result"
    }
   ],
   "source": [
    "m.popitem()"
   ]
  },
  {
   "cell_type": "code",
   "execution_count": 88,
   "id": "6982e46b",
   "metadata": {},
   "outputs": [],
   "source": [
    "m['mon']=75"
   ]
  },
  {
   "cell_type": "code",
   "execution_count": 89,
   "id": "eaf8df8f",
   "metadata": {},
   "outputs": [
    {
     "name": "stdout",
     "output_type": "stream",
     "text": [
      "{'ramesh': (25, 28, 25), 'mon': 75}\n"
     ]
    }
   ],
   "source": [
    "print(m)"
   ]
  },
  {
   "cell_type": "code",
   "execution_count": 90,
   "id": "88b56133",
   "metadata": {},
   "outputs": [
    {
     "data": {
      "text/plain": [
       "75"
      ]
     },
     "execution_count": 90,
     "metadata": {},
     "output_type": "execute_result"
    }
   ],
   "source": [
    "m.pop('mon')"
   ]
  },
  {
   "cell_type": "code",
   "execution_count": 91,
   "id": "88e0f94d",
   "metadata": {},
   "outputs": [
    {
     "name": "stdout",
     "output_type": "stream",
     "text": [
      "{'ramesh': (25, 28, 25)}\n"
     ]
    }
   ],
   "source": [
    "print(m)"
   ]
  },
  {
   "cell_type": "code",
   "execution_count": null,
   "id": "fd0ef2a8",
   "metadata": {},
   "outputs": [],
   "source": []
  }
 ],
 "metadata": {
  "kernelspec": {
   "display_name": "Python 3 (ipykernel)",
   "language": "python",
   "name": "python3"
  },
  "language_info": {
   "codemirror_mode": {
    "name": "ipython",
    "version": 3
   },
   "file_extension": ".py",
   "mimetype": "text/x-python",
   "name": "python",
   "nbconvert_exporter": "python",
   "pygments_lexer": "ipython3",
   "version": "3.10.9"
  }
 },
 "nbformat": 4,
 "nbformat_minor": 5
}
