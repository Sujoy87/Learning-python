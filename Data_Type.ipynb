{
 "cells": [
  {
   "cell_type": "markdown",
   "id": "65612d42",
   "metadata": {},
   "source": [
    "# Practise Data_types\n"
   ]
  },
  {
   "cell_type": "code",
   "execution_count": 3,
   "id": "a608603d",
   "metadata": {},
   "outputs": [
    {
     "name": "stdout",
     "output_type": "stream",
     "text": [
      "36\n",
      "<class 'int'>\n"
     ]
    }
   ],
   "source": [
    "#integer\n",
    "\n",
    "sujoyage=36  #sujoyage is variable \n",
    "print(sujoyage)\n",
    "print(type(sujoyage)) #Data type"
   ]
  },
  {
   "cell_type": "code",
   "execution_count": 2,
   "id": "e7be0222",
   "metadata": {},
   "outputs": [
    {
     "name": "stdout",
     "output_type": "stream",
     "text": [
      "4.5\n"
     ]
    },
    {
     "data": {
      "text/plain": [
       "float"
      ]
     },
     "execution_count": 2,
     "metadata": {},
     "output_type": "execute_result"
    }
   ],
   "source": [
    "rishaanhight=4.5  #data type float 4.5\n",
    "print(rishaanhight)\n",
    "type(rishaanhight)"
   ]
  },
  {
   "cell_type": "code",
   "execution_count": 5,
   "id": "8d43c0f0",
   "metadata": {},
   "outputs": [
    {
     "name": "stdout",
     "output_type": "stream",
     "text": [
      "sujoy bhattacharya\n"
     ]
    },
    {
     "data": {
      "text/plain": [
       "str"
      ]
     },
     "execution_count": 5,
     "metadata": {},
     "output_type": "execute_result"
    }
   ],
   "source": [
    "#data type string (str)\n",
    "my_name='sujoy bhattacharya' \n",
    "print(my_name)\n",
    "type(my_name)"
   ]
  },
  {
   "cell_type": "code",
   "execution_count": 12,
   "id": "ccbd5a1a",
   "metadata": {},
   "outputs": [
    {
     "name": "stdout",
     "output_type": "stream",
     "text": [
      "rs25000\n",
      "rs36000\n",
      "rs2000\n",
      "rs25000 rs36000 rs2000\n"
     ]
    }
   ],
   "source": [
    "tv,computer,mobile= 'rs25000','rs36000','rs2000'\n",
    "print(tv)\n",
    "print(computer)\n",
    "print(mobile)\n",
    "print(tv,computer,mobile)"
   ]
  },
  {
   "cell_type": "code",
   "execution_count": 13,
   "id": "142d2a14",
   "metadata": {},
   "outputs": [
    {
     "name": "stdout",
     "output_type": "stream",
     "text": [
      "39200\n"
     ]
    }
   ],
   "source": [
    "mobile_bill=1200\n",
    "petrol=5000\n",
    "house_rent=18000\n",
    "grocery=10000\n",
    "other_expenses=5000\n",
    "print(mobile_bill+petrol+house_rent+grocery+other_expenses)"
   ]
  },
  {
   "cell_type": "code",
   "execution_count": 15,
   "id": "63d56f98",
   "metadata": {},
   "outputs": [
    {
     "name": "stdout",
     "output_type": "stream",
     "text": [
      "1200\n",
      "5000\n",
      "18000\n",
      "10000\n",
      "5000\n"
     ]
    }
   ],
   "source": [
    "print(mobile_bill)\n",
    "print(petrol)\n",
    "print(house_rent)\n",
    "print(grocery)\n",
    "print(other_expenses)"
   ]
  },
  {
   "cell_type": "code",
   "execution_count": 16,
   "id": "e2249c7e",
   "metadata": {},
   "outputs": [
    {
     "name": "stdout",
     "output_type": "stream",
     "text": [
      "1200 5000 18000 10000 5000\n"
     ]
    }
   ],
   "source": [
    "print(mobile_bill, petrol, house_rent, grocery, other_expenses)"
   ]
  },
  {
   "cell_type": "code",
   "execution_count": 18,
   "id": "5290da76",
   "metadata": {},
   "outputs": [
    {
     "ename": "NameError",
     "evalue": "name 'Print' is not defined",
     "output_type": "error",
     "traceback": [
      "\u001b[1;31m---------------------------------------------------------------------------\u001b[0m",
      "\u001b[1;31mNameError\u001b[0m                                 Traceback (most recent call last)",
      "Cell \u001b[1;32mIn[18], line 1\u001b[0m\n\u001b[1;32m----> 1\u001b[0m \u001b[43mPrint\u001b[49m(\u001b[38;5;124m'\u001b[39m\u001b[38;5;124mname\u001b[39m\u001b[38;5;124m'\u001b[39m)\n",
      "\u001b[1;31mNameError\u001b[0m: name 'Print' is not defined"
     ]
    }
   ],
   "source": [
    "Print('name')"
   ]
  },
  {
   "cell_type": "code",
   "execution_count": 19,
   "id": "657ccc38",
   "metadata": {},
   "outputs": [
    {
     "name": "stdout",
     "output_type": "stream",
     "text": [
      "i am working in python coding\n"
     ]
    }
   ],
   "source": [
    "I='i am working in python coding'\n",
    "print(I)"
   ]
  },
  {
   "cell_type": "code",
   "execution_count": 25,
   "id": "bfdfe2d7",
   "metadata": {},
   "outputs": [
    {
     "name": "stdout",
     "output_type": "stream",
     "text": [
      "63000.0\n",
      "63000\n"
     ]
    },
    {
     "data": {
      "text/plain": [
       "float"
      ]
     },
     "execution_count": 25,
     "metadata": {},
     "output_type": "execute_result"
    }
   ],
   "source": [
    "#data Type conversion \n",
    "#Int to float\n",
    "bike=63000\n",
    "type(bike)\n",
    "honda=float(bike)\n",
    "print(honda)\n",
    "print(bike)\n",
    "type(honda)"
   ]
  },
  {
   "cell_type": "code",
   "execution_count": 28,
   "id": "01a8230b",
   "metadata": {},
   "outputs": [
    {
     "name": "stdout",
     "output_type": "stream",
     "text": [
      "26520\n"
     ]
    },
    {
     "data": {
      "text/plain": [
       "int"
      ]
     },
     "execution_count": 28,
     "metadata": {},
     "output_type": "execute_result"
    }
   ],
   "source": [
    "#float to Int\n",
    "\n",
    "ac=26520.35\n",
    "type(ac)\n",
    "a_c=int(ac)\n",
    "print(a_c)\n",
    "type(a_c)"
   ]
  },
  {
   "cell_type": "code",
   "execution_count": 29,
   "id": "891f7429",
   "metadata": {},
   "outputs": [],
   "source": [
    "#int to string\n",
    "data=25\n",
    "database=str(data)"
   ]
  },
  {
   "cell_type": "code",
   "execution_count": 31,
   "id": "50639e67",
   "metadata": {},
   "outputs": [
    {
     "name": "stdout",
     "output_type": "stream",
     "text": [
      "25\n"
     ]
    },
    {
     "data": {
      "text/plain": [
       "str"
      ]
     },
     "execution_count": 31,
     "metadata": {},
     "output_type": "execute_result"
    }
   ],
   "source": [
    "print(database)\n",
    "type(database)"
   ]
  },
  {
   "cell_type": "code",
   "execution_count": 34,
   "id": "74c3a349",
   "metadata": {},
   "outputs": [
    {
     "name": "stdout",
     "output_type": "stream",
     "text": [
      "6\n"
     ]
    },
    {
     "data": {
      "text/plain": [
       "int"
      ]
     },
     "execution_count": 34,
     "metadata": {},
     "output_type": "execute_result"
    }
   ],
   "source": [
    "#str to itr & Float (only numerical can be changed)\n",
    "rishaan_age='6'\n",
    "type(rishaan_age)\n",
    "\n",
    "age_rishaan=int(rishaan_age)\n",
    "print(age_rishaan)\n",
    "type(age_rishaan)"
   ]
  },
  {
   "cell_type": "code",
   "execution_count": 37,
   "id": "eb6b7c5b",
   "metadata": {},
   "outputs": [
    {
     "name": "stdout",
     "output_type": "stream",
     "text": [
      "6.0\n"
     ]
    },
    {
     "data": {
      "text/plain": [
       "float"
      ]
     },
     "execution_count": 37,
     "metadata": {},
     "output_type": "execute_result"
    }
   ],
   "source": [
    "#string to float\n",
    "age_rishaan=float(rishaan_age)\n",
    "print(age_rishaan)\n",
    "type(age_rishaan)"
   ]
  },
  {
   "cell_type": "code",
   "execution_count": 41,
   "id": "ab0c491e",
   "metadata": {},
   "outputs": [
    {
     "name": "stdout",
     "output_type": "stream",
     "text": [
      "6.0\n"
     ]
    },
    {
     "data": {
      "text/plain": [
       "str"
      ]
     },
     "execution_count": 41,
     "metadata": {},
     "output_type": "execute_result"
    }
   ],
   "source": [
    "#float to str\n",
    "\n",
    "ab=str(age_rishaan)\n",
    "print(ab)\n",
    "type(ab)"
   ]
  },
  {
   "cell_type": "code",
   "execution_count": 8,
   "id": "19b01de1",
   "metadata": {},
   "outputs": [
    {
     "name": "stdout",
     "output_type": "stream",
     "text": [
      "my name is sujoy bhattacgarya i am living in jaipur & working in reliant fox solutions my age is 36\n"
     ]
    }
   ],
   "source": [
    "name=\"sujoy bhattacgarya\"\n",
    "liv='jaipur'\n",
    "work='reliant fox solutions'\n",
    "age=36\n",
    "# o/p my name is sujoy bhattacharya i am living in jaipur & working in reliant fox solutions my age is 36\n",
    "print('my name is',name, 'i am living in',liv, '& working in',work,'my age is',age,)"
   ]
  },
  {
   "cell_type": "markdown",
   "id": "3b36f31e",
   "metadata": {},
   "source": [
    "# Print Statement "
   ]
  },
  {
   "cell_type": "code",
   "execution_count": 1,
   "id": "8beaddf7",
   "metadata": {},
   "outputs": [
    {
     "name": "stdout",
     "output_type": "stream",
     "text": [
      "my name is sujoy bhattacgarya i am living in jaipur & working in reliant fox solutions my age is 36\n"
     ]
    }
   ],
   "source": [
    "name=\"sujoy bhattacgarya\"\n",
    "liv='jaipur'\n",
    "work='reliant fox solutions'\n",
    "age=36\n",
    "# o/p my name is sujoy bhattacharya i am living in jaipur & working in reliant fox solutions my age is 36\n",
    "print('my name is',name, 'i am living in',liv, '& working in',work,'my age is',age,)\n"
   ]
  },
  {
   "cell_type": "code",
   "execution_count": 2,
   "id": "62f0c073",
   "metadata": {},
   "outputs": [
    {
     "name": "stdout",
     "output_type": "stream",
     "text": [
      "I got 100.2 rs salary and learning a course in Udemy which charge 20 rs per day\n"
     ]
    }
   ],
   "source": [
    "salary = 100.2\n",
    "spend = 20\n",
    "course = 'Udemy'\n",
    "\n",
    "# output : I got 100.2 rs salary and learning a course in udemy which charges 20 rs per day\n",
    "\n",
    "print('I got '+str(salary)+' '+'rs'+' '+'salary'+' '+'and learning a course in '+course+' '+'which charge '+str(spend)+' '+'rs per day')\n"
   ]
  },
  {
   "cell_type": "code",
   "execution_count": 17,
   "id": "55f8b3b7",
   "metadata": {},
   "outputs": [
    {
     "name": "stdout",
     "output_type": "stream",
     "text": [
      "my name is sujoy bhattacharya i am living in jaipur & working in reliant fox solutions my age is 36\n"
     ]
    }
   ],
   "source": [
    "namee=\"sujoy bhattacharya\"\n",
    "livee='jaipur'\n",
    "work='reliant fox solutions'\n",
    "age=36\n",
    "# o/p my name is sujoy bhattacharya i am living in jaipur & working in reliant fox solutions my age is 36\n",
    "print('my name is '+namee+' i am living in '+livee+' & working in '+work+' '+'my age is'+' '+str(age))"
   ]
  },
  {
   "cell_type": "code",
   "execution_count": 33,
   "id": "b100fa02",
   "metadata": {},
   "outputs": [
    {
     "name": "stdout",
     "output_type": "stream",
     "text": [
      "my name is sujoy bhattacharya i am living in jaipur & working in reliant fox solutions my age is 36\n"
     ]
    }
   ],
   "source": [
    "name='sujoy bhattacharya'\n",
    "live='jaipur'\n",
    "work='reliant fox solutions'\n",
    "age=36\n",
    "# o/p my name is sujoy bhattacharya i am living in jaipur & working in reliant fox solutions my age is 36\n",
    "print('my name is %s i am living in %s & working in %s my age is %d' %(name,live,work,age))"
   ]
  },
  {
   "cell_type": "code",
   "execution_count": 34,
   "id": "52f40d5c",
   "metadata": {},
   "outputs": [
    {
     "name": "stdout",
     "output_type": "stream",
     "text": [
      "my name is sujoy bhattacharya i am living in jaipur & working in reliant fox solutions my age is 36\n"
     ]
    }
   ],
   "source": [
    "#using f''--> formating Techniques\n",
    "name='sujoy bhattacharya'\n",
    "live='jaipur'\n",
    "work='reliant fox solutions'\n",
    "age=36\n",
    "# o/p my name is sujoy bhattacharya i am living in jaipur & working in reliant fox solutions my age is 36\n",
    "print(f'my name is {name} i am living in {live} & working in {work} my age is {age}') \n"
   ]
  },
  {
   "cell_type": "code",
   "execution_count": 39,
   "id": "d8d535b9",
   "metadata": {},
   "outputs": [
    {
     "name": "stdout",
     "output_type": "stream",
     "text": [
      "my name is sujoy bhattacharya i am living in jaipur & working in reliant fox solutions my age is 36\n"
     ]
    }
   ],
   "source": [
    "#.format\n",
    "#using f''--> formating Techniques\n",
    "name='sujoy bhattacharya'\n",
    "live='jaipur'\n",
    "work='reliant fox solutions'\n",
    "age=36\n",
    "# o/p my name is sujoy bhattacharya i am living in jaipur & working in reliant fox solutions my age is 36\n",
    "print('my name is {} i am living in {} & working in {} my age is {}'.format(name,live,work,age)) \n"
   ]
  },
  {
   "cell_type": "code",
   "execution_count": 45,
   "id": "803ea5e3",
   "metadata": {},
   "outputs": [
    {
     "name": "stdout",
     "output_type": "stream",
     "text": [
      "0\n"
     ]
    }
   ],
   "source": [
    "# % funcation \n",
    "a=500\n",
    "b=25\n",
    "print(a%b)"
   ]
  },
  {
   "cell_type": "code",
   "execution_count": 57,
   "id": "dde5eb55",
   "metadata": {},
   "outputs": [
    {
     "data": {
      "text/plain": [
       "0"
      ]
     },
     "execution_count": 57,
     "metadata": {},
     "output_type": "execute_result"
    }
   ],
   "source": [
    "#power function\n",
    "pow(2,3,2)"
   ]
  },
  {
   "cell_type": "code",
   "execution_count": 59,
   "id": "16aa8797",
   "metadata": {},
   "outputs": [
    {
     "data": {
      "text/plain": [
       "True"
      ]
     },
     "execution_count": 59,
     "metadata": {},
     "output_type": "execute_result"
    }
   ],
   "source": [
    "a=500\n",
    "b=25\n",
    "(a==b)\n",
    "(a>25)"
   ]
  },
  {
   "cell_type": "code",
   "execution_count": 62,
   "id": "3fdc1aa3",
   "metadata": {},
   "outputs": [
    {
     "data": {
      "text/plain": [
       "True"
      ]
     },
     "execution_count": 62,
     "metadata": {},
     "output_type": "execute_result"
    }
   ],
   "source": [
    "a=25\n",
    "b=25\n",
    "(a<=b)"
   ]
  },
  {
   "cell_type": "code",
   "execution_count": null,
   "id": "174395df",
   "metadata": {},
   "outputs": [],
   "source": []
  }
 ],
 "metadata": {
  "kernelspec": {
   "display_name": "Python 3 (ipykernel)",
   "language": "python",
   "name": "python3"
  },
  "language_info": {
   "codemirror_mode": {
    "name": "ipython",
    "version": 3
   },
   "file_extension": ".py",
   "mimetype": "text/x-python",
   "name": "python",
   "nbconvert_exporter": "python",
   "pygments_lexer": "ipython3",
   "version": "3.10.9"
  }
 },
 "nbformat": 4,
 "nbformat_minor": 5
}
