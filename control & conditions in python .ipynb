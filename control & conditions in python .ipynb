{
 "cells": [
  {
   "cell_type": "code",
   "execution_count": 8,
   "id": "9ea75461",
   "metadata": {},
   "outputs": [
    {
     "name": "stdout",
     "output_type": "stream",
     "text": [
      "bhattacharya\n",
      "bhattacharya\n",
      "bhattacharya\n",
      "bhattacharya\n",
      "bhattacharya\n",
      "bhattacharya\n",
      "bhattacharya\n",
      "bhattacharya\n",
      "bhattacharya\n",
      "bhattacharya\n"
     ]
    }
   ],
   "source": [
    "for sujoy in range(10):\n",
    "          print('bhattacharya')"
   ]
  },
  {
   "cell_type": "code",
   "execution_count": 8,
   "id": "2f852c7e",
   "metadata": {},
   "outputs": [
    {
     "name": "stdout",
     "output_type": "stream",
     "text": [
      "rajasthan\n",
      "rajasthan\n",
      "rajasthan\n",
      "rajasthan\n"
     ]
    }
   ],
   "source": [
    "for jaipur in range(1,5):\n",
    "           print('rajasthan')\n"
   ]
  },
  {
   "cell_type": "code",
   "execution_count": 11,
   "id": "e07297b9",
   "metadata": {},
   "outputs": [
    {
     "name": "stdout",
     "output_type": "stream",
     "text": [
      "k\n",
      "k\n",
      "k\n",
      "k\n"
     ]
    }
   ],
   "source": [
    "for jaipur in range(1,5):\n",
    "           print('k')"
   ]
  },
  {
   "cell_type": "markdown",
   "id": "79a6c3a0",
   "metadata": {},
   "source": [
    "# 2 for loops works"
   ]
  },
  {
   "cell_type": "code",
   "execution_count": 14,
   "id": "8b1b36eb",
   "metadata": {},
   "outputs": [
    {
     "name": "stdout",
     "output_type": "stream",
     "text": [
      "cooler\n",
      "cooler\n",
      "cooler\n",
      "cooler\n",
      "cooler\n",
      "cooler\n",
      "cooler\n",
      "cooler\n",
      "cooler\n",
      "cooler\n",
      "cooler\n",
      "cooler\n",
      "cooler\n",
      "cooler\n",
      "cooler\n",
      "cooler\n",
      "cooler\n",
      "cooler\n",
      "cooler\n",
      "cooler\n",
      "cooler\n",
      "cooler\n",
      "cooler\n",
      "cooler\n",
      "cooler\n",
      "cooler\n",
      "cooler\n",
      "cooler\n",
      "cooler\n",
      "cooler\n",
      "cooler\n",
      "cooler\n",
      "cooler\n",
      "cooler\n",
      "cooler\n",
      "cooler\n"
     ]
    }
   ],
   "source": [
    "for sol in range(1,10):\n",
    "        for toll in range(1,5):\n",
    "                 print('cooler')\n",
    "                \n",
    "                \n",
    "        "
   ]
  },
  {
   "cell_type": "code",
   "execution_count": 17,
   "id": "38567891",
   "metadata": {},
   "outputs": [
    {
     "name": "stdout",
     "output_type": "stream",
     "text": [
      "1 1\n",
      "1 2\n",
      "1 3\n",
      "1 4\n",
      "1 5\n",
      "1 6\n",
      "1 7\n",
      "1 8\n",
      "1 9\n",
      "2 1\n",
      "2 2\n",
      "2 3\n",
      "2 4\n",
      "2 5\n",
      "2 6\n",
      "2 7\n",
      "2 8\n",
      "2 9\n",
      "3 1\n",
      "3 2\n",
      "3 3\n",
      "3 4\n",
      "3 5\n",
      "3 6\n",
      "3 7\n",
      "3 8\n",
      "3 9\n",
      "4 1\n",
      "4 2\n",
      "4 3\n",
      "4 4\n",
      "4 5\n",
      "4 6\n",
      "4 7\n",
      "4 8\n",
      "4 9\n"
     ]
    }
   ],
   "source": [
    "for sol in range(1,5):\n",
    "        for toll in range(1,10):\n",
    "                 print(sol , toll)\n",
    "                \n",
    "                \n",
    "        "
   ]
  },
  {
   "cell_type": "code",
   "execution_count": 21,
   "id": "2dc2e21e",
   "metadata": {},
   "outputs": [
    {
     "name": "stdout",
     "output_type": "stream",
     "text": [
      "j\n",
      "a\n",
      "i\n",
      "p\n",
      "u\n",
      "r\n"
     ]
    }
   ],
   "source": [
    "city='jaipur'\n",
    "for i in city:\n",
    "    print(i)"
   ]
  },
  {
   "cell_type": "code",
   "execution_count": 28,
   "id": "0d77ab9b",
   "metadata": {},
   "outputs": [
    {
     "name": "stdout",
     "output_type": "stream",
     "text": [
      "j s\n",
      "j t\n",
      "j a\n",
      "j t\n",
      "j e\n",
      "a s\n",
      "a t\n",
      "a a\n",
      "a t\n",
      "a e\n",
      "i s\n",
      "i t\n",
      "i a\n",
      "i t\n",
      "i e\n",
      "p s\n",
      "p t\n",
      "p a\n",
      "p t\n",
      "p e\n",
      "u s\n",
      "u t\n",
      "u a\n",
      "u t\n",
      "u e\n",
      "r s\n",
      "r t\n",
      "r a\n",
      "r t\n",
      "r e\n"
     ]
    }
   ],
   "source": [
    "city='jaipur'\n",
    "for i in city:\n",
    "    for rajasthan in 'state':\n",
    "        print(i,rajasthan)"
   ]
  },
  {
   "cell_type": "code",
   "execution_count": 61,
   "id": "fce9789d",
   "metadata": {},
   "outputs": [
    {
     "name": "stdout",
     "output_type": "stream",
     "text": [
      "3\n",
      "0\n",
      "1\n",
      "2\n"
     ]
    }
   ],
   "source": [
    "city=['jaipur', 20.5 , 30]\n",
    "print(len(city))\n",
    "for i in range(len(city)): \n",
    "    print(i)"
   ]
  },
  {
   "cell_type": "code",
   "execution_count": 60,
   "id": "26fd067e",
   "metadata": {},
   "outputs": [
    {
     "name": "stdout",
     "output_type": "stream",
     "text": [
      "20\n",
      "10\n",
      "50\n"
     ]
    }
   ],
   "source": [
    "jaipur= {'jal mahal': 20 , 'amer': 10 , 'fort': 50}\n",
    "for i , a in jaipur.items():\n",
    "    print(jaipur[i])"
   ]
  },
  {
   "cell_type": "code",
   "execution_count": 63,
   "id": "cfe8eb8f",
   "metadata": {},
   "outputs": [
    {
     "name": "stdout",
     "output_type": "stream",
     "text": [
      "0 g\n",
      "1 a\n",
      "2 r\n",
      "3 g\n",
      "4 e\n",
      "5 e\n"
     ]
    }
   ],
   "source": [
    "x=\"gargee\"\n",
    "for i,j in enumerate(x):\n",
    "    print(i,j)"
   ]
  },
  {
   "cell_type": "code",
   "execution_count": 65,
   "id": "a45dd991",
   "metadata": {},
   "outputs": [
    {
     "name": "stdout",
     "output_type": "stream",
     "text": [
      "30\n",
      "335\n",
      "85\n"
     ]
    }
   ],
   "source": [
    "ab={'job':30 , 'employment':335 , 'seeker':85}\n",
    "for i,j in ab.items():\n",
    "    print(ab[i])"
   ]
  },
  {
   "cell_type": "code",
   "execution_count": 76,
   "id": "1a4f18db",
   "metadata": {},
   "outputs": [
    {
     "name": "stdout",
     "output_type": "stream",
     "text": [
      "it is a even number\n"
     ]
    }
   ],
   "source": [
    "#condation statement\n",
    "a=24\n",
    "if a%2==0:\n",
    "    print(\"it is a even number\")\n",
    "else:\n",
    "     print('the number is odd')\n"
   ]
  },
  {
   "cell_type": "code",
   "execution_count": 77,
   "id": "2a643e67",
   "metadata": {},
   "outputs": [
    {
     "name": "stdout",
     "output_type": "stream",
     "text": [
      "the number is odd\n"
     ]
    }
   ],
   "source": [
    "#condation statement\n",
    "a=23\n",
    "if a%2==0:\n",
    "    print(\"it is a even number\")\n",
    "else:\n",
    "     print('the number is odd')\n"
   ]
  },
  {
   "cell_type": "code",
   "execution_count": 81,
   "id": "3e671a4a",
   "metadata": {},
   "outputs": [
    {
     "name": "stdout",
     "output_type": "stream",
     "text": [
      "very hot\n"
     ]
    }
   ],
   "source": [
    "jaipur=30\n",
    "jodhpur=43\n",
    "ajmer=44\n",
    "barmer=48\n",
    "\n",
    "if jaipur>45:\n",
    "    print('not very hot')\n",
    "elif jodhpur>44:\n",
    "    print('hot')\n",
    "elif ajmer>45:\n",
    "        print(\"hot weather\")\n",
    "elif barmer>45:\n",
    "        print('very hot')\n",
    "else:\n",
    "    print('no record')\n",
    "        \n"
   ]
  },
  {
   "cell_type": "code",
   "execution_count": 82,
   "id": "61fdd35b",
   "metadata": {},
   "outputs": [
    {
     "name": "stdout",
     "output_type": "stream",
     "text": [
      "no record\n"
     ]
    }
   ],
   "source": [
    "jaipur=30\n",
    "jodhpur=43\n",
    "ajmer=44\n",
    "barmer=42\n",
    "\n",
    "if jaipur>45:\n",
    "    print('not very hot')\n",
    "elif jodhpur>44:\n",
    "    print('hot')\n",
    "elif ajmer>45:\n",
    "        print(\"hot weather\")\n",
    "elif barmer>45:\n",
    "        print('very hot')\n",
    "else:\n",
    "    print('no record')\n",
    "        \n"
   ]
  },
  {
   "cell_type": "code",
   "execution_count": 96,
   "id": "bd2c2c07",
   "metadata": {},
   "outputs": [
    {
     "name": "stdout",
     "output_type": "stream",
     "text": [
      "2 even\n",
      "4 even\n",
      "6 even\n",
      "8 even\n",
      "10 even\n",
      "12 even\n",
      "14 even\n",
      "16 even\n",
      "18 even\n",
      "20 even\n",
      "22 even\n",
      "24 even\n",
      "26 even\n",
      "28 even\n",
      "30 even\n",
      "32 even\n",
      "34 even\n",
      "36 even\n",
      "38 even\n",
      "40 even\n",
      "42 even\n",
      "44 even\n",
      "46 even\n",
      "48 even\n",
      "50 even\n",
      "52 even\n",
      "54 even\n",
      "56 even\n",
      "58 even\n",
      "60 even\n",
      "62 even\n",
      "64 even\n",
      "66 even\n",
      "68 even\n",
      "70 even\n",
      "72 even\n",
      "74 even\n",
      "76 even\n",
      "78 even\n",
      "80 even\n",
      "82 even\n",
      "84 even\n",
      "86 even\n",
      "88 even\n",
      "90 even\n",
      "92 even\n",
      "94 even\n",
      "96 even\n",
      "98 even\n"
     ]
    }
   ],
   "source": [
    "for i in range(1,100):\n",
    "    if i %2 == 0:\n",
    "        print(i , 'even')\n",
    "\n",
    "    "
   ]
  },
  {
   "cell_type": "code",
   "execution_count": 8,
   "id": "3854460d",
   "metadata": {},
   "outputs": [
    {
     "name": "stdout",
     "output_type": "stream",
     "text": [
      "sjy bhttchry\n"
     ]
    }
   ],
   "source": [
    "#remove vowels\n",
    "\n",
    "name='sujoy bhattacharya'\n",
    "my=''\n",
    "for i in name:\n",
    "    if i not in 'aeiouAEIOU':\n",
    "       my=my+i    \n",
    "print(my)"
   ]
  },
  {
   "cell_type": "code",
   "execution_count": 9,
   "id": "3aef7c65",
   "metadata": {},
   "outputs": [
    {
     "name": "stdout",
     "output_type": "stream",
     "text": [
      "shshnk shkhr bhttchry\n"
     ]
    }
   ],
   "source": [
    "#remove vowels\n",
    "w='shashank sheikher bhattacharya'\n",
    "z=''\n",
    "for q in w:\n",
    "    if q not in 'aeiouAEIOU':\n",
    "        z=z+q\n",
    "print(z)        "
   ]
  },
  {
   "cell_type": "code",
   "execution_count": 10,
   "id": "0a154329",
   "metadata": {},
   "outputs": [
    {
     "name": "stdout",
     "output_type": "stream",
     "text": [
      "rv kmr shrm\n"
     ]
    }
   ],
   "source": [
    "n='ravi kumar sharma'\n",
    "m=''\n",
    "for l in n:\n",
    "    if l not in 'AEIOUaeiou':\n",
    "        m=m+l\n",
    "print(m)        "
   ]
  },
  {
   "cell_type": "code",
   "execution_count": 15,
   "id": "188cca72",
   "metadata": {},
   "outputs": [
    {
     "name": "stdout",
     "output_type": "stream",
     "text": [
      "1\n",
      "2\n",
      "3\n",
      "4\n",
      "5\n",
      "6\n",
      "7\n",
      "8\n",
      "stop\n"
     ]
    }
   ],
   "source": [
    "#break\n",
    "for i in range(1 , 50):\n",
    "    print(i)\n",
    "    if i==8:\n",
    "       break\n",
    "print('stop')    "
   ]
  },
  {
   "cell_type": "code",
   "execution_count": 33,
   "id": "729ae42c",
   "metadata": {},
   "outputs": [
    {
     "name": "stdout",
     "output_type": "stream",
     "text": [
      "5\n",
      "6\n",
      "7\n",
      "8\n",
      "9\n",
      "10\n",
      "11\n",
      "12\n",
      "13\n",
      "14\n",
      "15\n",
      "16\n",
      "17\n",
      "18\n",
      "19\n",
      "20\n",
      "stop\n"
     ]
    }
   ],
   "source": [
    "#break in while loop\n",
    "a = 5\n",
    "while a > 0:\n",
    "    print(a)\n",
    "    if a==20:\n",
    "        break\n",
    "    a=a+1\n",
    "print('stop')        \n",
    "    "
   ]
  },
  {
   "cell_type": "code",
   "execution_count": 41,
   "id": "596bd3c2",
   "metadata": {},
   "outputs": [
    {
     "name": "stdout",
     "output_type": "stream",
     "text": [
      "121 it is a palnindrom number\n"
     ]
    }
   ],
   "source": [
    "#palnindrom \n",
    "number=121\n",
    "temp=number\n",
    "count=0\n",
    "while number>0:\n",
    "    r=number %10\n",
    "    count=(count*10)+r\n",
    "    number=number//10\n",
    "    \n",
    "if temp==count:\n",
    "    print(count, 'it is a palnindrom number')\n",
    "else:\n",
    "    print(count, 'it is not a palnindrom number')\n"
   ]
  },
  {
   "cell_type": "code",
   "execution_count": 45,
   "id": "299c487d",
   "metadata": {},
   "outputs": [
    {
     "name": "stdout",
     "output_type": "stream",
     "text": [
      "this is palnindrom number\n"
     ]
    }
   ],
   "source": [
    "#palindrom in string\n",
    "a ='sos'\n",
    "if a==a[::-1]:\n",
    "    print('this is palnindrom number')\n",
    "else:\n",
    "    print('not a palnindrom number')\n",
    "        "
   ]
  },
  {
   "cell_type": "code",
   "execution_count": 58,
   "id": "5205d402",
   "metadata": {},
   "outputs": [
    {
     "name": "stdout",
     "output_type": "stream",
     "text": [
      "12 not perfect number\n"
     ]
    }
   ],
   "source": [
    "#perfect number \n",
    "a =12\n",
    "c=0\n",
    "for i in range(1 , a):\n",
    "    if a % i == 0:\n",
    "        c=c+i\n",
    "if c==a:\n",
    "    print(a , 'perfect number')\n",
    "else:\n",
    "    print(a,  'not perfect number')"
   ]
  },
  {
   "cell_type": "code",
   "execution_count": null,
   "id": "b70a7439",
   "metadata": {},
   "outputs": [],
   "source": []
  }
 ],
 "metadata": {
  "kernelspec": {
   "display_name": "Python 3 (ipykernel)",
   "language": "python",
   "name": "python3"
  },
  "language_info": {
   "codemirror_mode": {
    "name": "ipython",
    "version": 3
   },
   "file_extension": ".py",
   "mimetype": "text/x-python",
   "name": "python",
   "nbconvert_exporter": "python",
   "pygments_lexer": "ipython3",
   "version": "3.10.9"
  }
 },
 "nbformat": 4,
 "nbformat_minor": 5
}
